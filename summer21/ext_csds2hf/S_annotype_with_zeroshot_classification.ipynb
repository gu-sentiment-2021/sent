{
 "cells": [
  {
   "cell_type": "code",
   "execution_count": null,
   "metadata": {
    "colab": {
     "base_uri": "https://localhost:8080/"
    },
    "id": "jADP2o_3El7I",
    "outputId": "cb023610-04ac-4502-cf74-d0bbfee6c1a3",
    "tags": []
   },
   "outputs": [],
   "source": [
    "!pip install transformers"
   ]
  },
  {
   "cell_type": "code",
   "execution_count": 1,
   "metadata": {
    "id": "a_zA3KKHUbgL"
   },
   "outputs": [],
   "source": [
    "import torch\n",
    "from urllib.request import urlopen\n",
    "import json\n",
    "from transformers import pipeline\n",
    "import matplotlib.pyplot as plt\n",
    "import numpy as np"
   ]
  },
  {
   "cell_type": "code",
   "execution_count": 2,
   "metadata": {
    "colab": {
     "base_uri": "https://localhost:8080/"
    },
    "id": "CcUf1t7iTzhp",
    "outputId": "d6a56ea7-3c5a-451a-8901-6dd6b29a0e5e"
   },
   "outputs": [
    {
     "name": "stdout",
     "output_type": "stream",
     "text": [
      "Device: cuda\n"
     ]
    }
   ],
   "source": [
    "# Setup device\n",
    "\n",
    "device = torch.device('cuda' if torch.cuda.is_available() else 'cpu')\n",
    "device_hf = 0 if torch.cuda.is_available() else -1\n",
    "print(\"Device:\", device)"
   ]
  },
  {
   "cell_type": "code",
   "execution_count": 3,
   "metadata": {},
   "outputs": [],
   "source": [
    "NUM_WORKERS = 0"
   ]
  },
  {
   "cell_type": "markdown",
   "metadata": {
    "id": "faEGTkqS7Hp4"
   },
   "source": [
    "# Preparing the dataset"
   ]
  },
  {
   "cell_type": "code",
   "execution_count": 4,
   "metadata": {
    "id": "nyymAwVCYxpf"
   },
   "outputs": [],
   "source": [
    "fetch_from_web = False\n",
    "\n",
    "if fetch_from_web:\n",
    "    url = \"https://github.com/gu-sentiment-2021/sent/raw/v211021/summer21/json2csds/data.json\"\n",
    "    response = urlopen(url)\n",
    "    csds_collection = json.loads(response.read())\n",
    "else:\n",
    "    with open('..\\\\json2csds\\\\data.json') as file:\n",
    "        csds_collection = json.load(file)"
   ]
  },
  {
   "cell_type": "code",
   "execution_count": 5,
   "metadata": {
    "colab": {
     "base_uri": "https://localhost:8080/"
    },
    "id": "zyWk_HPcZDG_",
    "outputId": "c7799125-54d5-431d-80bf-4bc4f1abdc78"
   },
   "outputs": [
    {
     "name": "stdout",
     "output_type": "stream",
     "text": [
      "inputs and targets for 129-th csds object (out of 4384):\n",
      "inputs_text:\t\t Many fear violence after Zimbabwe vote\n",
      "inputs_head:\t\t fear\n",
      "inputs_text_head_dot:\t Many fear violence after Zimbabwe vote fear.\n",
      "inputs_head_dot_text:\t fear. Many fear violence after Zimbabwe vote\n",
      "inputs_text_head:\t Many fear violence after Zimbabwe vote fear\n",
      "inputs_head_text:\t fear Many fear violence after Zimbabwe vote\n",
      "inputs_tuple_text_head:\t ('Many fear violence after Zimbabwe vote', 'fear')\n",
      "inputs_tuple_head_text:\t ('fear', 'Many fear violence after Zimbabwe vote')\n",
      "targets_annotype:\t sentiment\n"
     ]
    }
   ],
   "source": [
    "# Preparing inputs and targets\n",
    "\n",
    "inputs_text = []\n",
    "inputs_head = []\n",
    "inputs_text_head_dot = []\n",
    "inputs_head_dot_text = []\n",
    "inputs_text_head = []\n",
    "inputs_head_text = []\n",
    "inputs_tuple_text_head = []\n",
    "inputs_tuple_head_text = []\n",
    "targets_annotype = []\n",
    "\n",
    "for csds_object in csds_collection['csds_objects']:\n",
    "    inputs_text += [csds_object['text']]\n",
    "    inputs_head += [csds_object['head']]\n",
    "    inputs_text_head_dot += [csds_object['text'] + ' ' + csds_object['head'] + '.']\n",
    "    inputs_head_dot_text += [csds_object['head'] + '. ' + csds_object['text']]\n",
    "    inputs_text_head += [csds_object['text'] + ' ' + csds_object['head']]\n",
    "    inputs_head_text += [csds_object['head'] + ' ' + csds_object['text']]\n",
    "    inputs_tuple_text_head += [(csds_object['text'], csds_object['head'])]\n",
    "    inputs_tuple_head_text += [(csds_object['head'], csds_object['text'])]\n",
    "    targets_annotype += [csds_object['annotation_type'].replace('_', ' ')] # \"expressive_subjectivity\" -> \"expressive subjectivity\"\n",
    "\n",
    "n_samples = len(csds_collection['csds_objects'])\n",
    "\n",
    "i = 128\n",
    "print(f'inputs and targets for {i+1}-th csds object (out of {n_samples}):')\n",
    "print('inputs_text:\\t\\t', inputs_text[i])\n",
    "print('inputs_head:\\t\\t', inputs_head[i])\n",
    "print('inputs_text_head_dot:\\t', inputs_text_head_dot[i])\n",
    "print('inputs_head_dot_text:\\t', inputs_head_dot_text[i])\n",
    "print('inputs_text_head:\\t', inputs_text_head[i])\n",
    "print('inputs_head_text:\\t', inputs_head_text[i])\n",
    "print('inputs_tuple_text_head:\\t', inputs_tuple_text_head[i])\n",
    "print('inputs_tuple_head_text:\\t', inputs_tuple_head_text[i])\n",
    "print('targets_annotype:\\t', targets_annotype[i])"
   ]
  },
  {
   "cell_type": "code",
   "execution_count": 6,
   "metadata": {
    "colab": {
     "base_uri": "https://localhost:8080/"
    },
    "id": "YkFSm35wDmmJ",
    "outputId": "b401d0a1-57e7-4f7a-c3ff-d64c2ae5b602"
   },
   "outputs": [
    {
     "name": "stdout",
     "output_type": "stream",
     "text": [
      "{'expressive subjectivity': 1811, 'sentiment': 1290, 'arguing': 821, 'other attitude': 203, 'intention': 132, 'speculation': 53, 'agreement': 74}\n"
     ]
    }
   ],
   "source": [
    "# Count the number of each annotation type and extract the labels\n",
    "\n",
    "annotype_n = {}\n",
    "for annotype in targets_annotype:\n",
    "    annotype_n[annotype] = annotype_n.get(annotype, 0) + 1\n",
    "print(annotype_n)\n",
    "classes = list(annotype_n.keys())"
   ]
  },
  {
   "cell_type": "code",
   "execution_count": 7,
   "metadata": {},
   "outputs": [
    {
     "data": {
      "image/png": "[encoded data removed]",
      "text/plain": [
       "<Figure size 432x288 with 1 Axes>"
      ]
     },
     "metadata": {
      "needs_background": "light"
     },
     "output_type": "display_data"
    }
   ],
   "source": [
    "# Plot the chart\n",
    "\n",
    "fig, ax = plt.subplots()\n",
    "\n",
    "ax.barh(np.arange(len(classes)), list(annotype_n.values()))\n",
    "ax.set_yticks(np.arange(len(classes)))\n",
    "ax.set_yticklabels(classes)\n",
    "ax.invert_yaxis()  # labels read top-to-bottom\n",
    "ax.set_xlabel('Counts')\n",
    "ax.set_title('Label Frequency')\n",
    "\n",
    "plt.show()"
   ]
  },
  {
   "cell_type": "markdown",
   "metadata": {
    "id": "zprBAR9xUY2E"
   },
   "source": [
    "# Preparing the metrics"
   ]
  },
  {
   "cell_type": "code",
   "execution_count": null,
   "metadata": {
    "id": "1y_VU5cvUYbp"
   },
   "outputs": [],
   "source": [
    "# Accuracy\n",
    "\n",
    "def accuracy(results, targets):\n",
    "    correct = 0\n",
    "    n = len(targets)\n",
    "    for result, target in zip(results, targets):\n",
    "        if result['labels'][0] == target:\n",
    "            correct += 1\n",
    "    return correct / n"
   ]
  },
  {
   "cell_type": "code",
   "execution_count": null,
   "metadata": {
    "id": "28wkkqG06Pqz"
   },
   "outputs": [],
   "source": [
    "sample_start = 0\n",
    "sample_end = n_samples"
   ]
  },
  {
   "cell_type": "markdown",
   "metadata": {},
   "source": [
    "# Choose a model"
   ]
  },
  {
   "cell_type": "code",
   "execution_count": null,
   "metadata": {},
   "outputs": [],
   "source": [
    "classifier = pipeline(\n",
    "    \"zero-shot-classification\",\n",
    "    model=\"typeform/distilbert-base-uncased-mnli\",\n",
    "    device=-1\n",
    ")"
   ]
  },
  {
   "cell_type": "code",
   "execution_count": null,
   "metadata": {},
   "outputs": [],
   "source": [
    "classifier = pipeline(\n",
    "    \"zero-shot-classification\",\n",
    "    model=\"joeddav/bart-large-mnli-yahoo-answers\",\n",
    "    device=device_hf\n",
    ")"
   ]
  },
  {
   "cell_type": "code",
   "execution_count": null,
   "metadata": {},
   "outputs": [],
   "source": [
    "classifier = pipeline(\n",
    "    \"zero-shot-classification\",\n",
    "    model=\"typeform/mobilebert-uncased-mnli\",\n",
    "    device=device_hf,\n",
    ")"
   ]
  },
  {
   "cell_type": "code",
   "execution_count": null,
   "metadata": {},
   "outputs": [],
   "source": [
    "classifier = pipeline(\n",
    "    \"zero-shot-classification\",\n",
    "    model=\"cross-encoder/nli-distilroberta-base\",\n",
    "    device=device_hf,\n",
    ")"
   ]
  },
  {
   "cell_type": "code",
   "execution_count": null,
   "metadata": {},
   "outputs": [],
   "source": [
    "classifier = pipeline(\n",
    "    \"zero-shot-classification\",\n",
    "    model=\"Narsil/deberta-large-mnli-zero-cls\",\n",
    "    device=device_hf,\n",
    ")"
   ]
  },
  {
   "cell_type": "code",
   "execution_count": null,
   "metadata": {},
   "outputs": [],
   "source": [
    "classifier = pipeline(\n",
    "    \"zero-shot-classification\",\n",
    "    model=\"cross-encoder/nli-roberta-base\",\n",
    "    device=device_hf,\n",
    ")"
   ]
  },
  {
   "cell_type": "code",
   "execution_count": null,
   "metadata": {},
   "outputs": [],
   "source": [
    "classifier = pipeline(\n",
    "    \"zero-shot-classification\",\n",
    "    model=\"cross-encoder/nli-deberta-base\",\n",
    "    device=device_hf,\n",
    ")"
   ]
  },
  {
   "cell_type": "code",
   "execution_count": null,
   "metadata": {},
   "outputs": [],
   "source": [
    "classifier = pipeline(\n",
    "    \"zero-shot-classification\",\n",
    "    model=\"cross-encoder/nli-MiniLM2-L6-H768\",\n",
    "    device=device_hf,\n",
    ")"
   ]
  },
  {
   "cell_type": "code",
   "execution_count": null,
   "metadata": {},
   "outputs": [],
   "source": [
    "classifier = pipeline(\n",
    "    \"zero-shot-classification\",\n",
    "    model=\"typeform/squeezebert-mnli\",\n",
    "    device=device_hf,\n",
    ")"
   ]
  },
  {
   "cell_type": "code",
   "execution_count": null,
   "metadata": {},
   "outputs": [],
   "source": [
    "classifier = pipeline(\n",
    "    \"zero-shot-classification\",\n",
    "    model=\"navteca/bart-large-mnli\",\n",
    "    device=device_hf,\n",
    ")"
   ]
  },
  {
   "cell_type": "markdown",
   "metadata": {},
   "source": [
    "# Evaluate"
   ]
  },
  {
   "cell_type": "markdown",
   "metadata": {},
   "source": [
    "## inputs_text"
   ]
  },
  {
   "cell_type": "code",
   "execution_count": null,
   "metadata": {},
   "outputs": [],
   "source": [
    "results = classifier(inputs_text[sample_start:sample_end], classes, num_workers=NUM_WORKERS, truncation=True, padding=True)"
   ]
  },
  {
   "cell_type": "code",
   "execution_count": null,
   "metadata": {},
   "outputs": [],
   "source": [
    "print(\"Accuracy:\", accuracy(results, targets_annotype[sample_start:sample_end]))"
   ]
  },
  {
   "cell_type": "markdown",
   "metadata": {},
   "source": [
    "<span style=\"color:green\">**typeform/distilbert-base-uncased-mnli**</span> <br/>\n",
    "Accuracy: 0.1644616788321168\n",
    "\n",
    "<span style=\"color:green\">**joeddav/bart-large-mnli-yahoo-answers**</span> <br/>\n",
    "Accuracy: 0.1781478102189781\n",
    "\n",
    "<span style=\"color:green\">**typeform/mobilebert-uncased-mnli**</span> <br/>\n",
    "Accuracy: 0.12203467153284671\n",
    "\n",
    "<span style=\"color:green\">**cross-encoder/nli-distilroberta-base**</span> <br/>\n",
    "Accuracy: 0.19936131386861314\n",
    "\n",
    "<span style=\"color:green\">**Narsil/deberta-large-mnli-zero-cls**</span> <br/>\n",
    "Accuracy: 0.21829379562043796 (2)\n",
    "\n",
    "<span style=\"color:green\">**cross-encoder/nli-roberta-base**</span> <br/>\n",
    "Accuracy: 0.1906934306569343\n",
    "\n",
    "<span style=\"color:green\">**cross-encoder/nli-deberta-base**</span> <br/>\n",
    "Accuracy: 0.30383211678832117 (1)\n",
    "\n",
    "<span style=\"color:green\">**cross-encoder/nli-MiniLM2-L6-H768**</span> <br/>\n",
    "Accuracy: 0.21099452554744524 (3)\n",
    "\n",
    "<span style=\"color:green\">**typeform/squeezebert-mnli**</span> <br/>\n",
    "Accuracy: 0.09146897810218978\n",
    "\n",
    "<span style=\"color:green\">**navteca/bart-large-mnli**</span> <br/>\n",
    "Accuracy: 0.1646897810218978"
   ]
  },
  {
   "cell_type": "markdown",
   "metadata": {},
   "source": [
    "## inputs_head"
   ]
  },
  {
   "cell_type": "code",
   "execution_count": null,
   "metadata": {},
   "outputs": [],
   "source": [
    "results = classifier(inputs_head[sample_start:sample_end], classes, num_workers=NUM_WORKERS, truncation=True, padding=True)"
   ]
  },
  {
   "cell_type": "code",
   "execution_count": null,
   "metadata": {},
   "outputs": [],
   "source": [
    "print(\"Accuracy:\", accuracy(results, targets_annotype[sample_start:sample_end]))"
   ]
  },
  {
   "cell_type": "markdown",
   "metadata": {},
   "source": [
    "<span style=\"color:green\">**typeform/distilbert-base-uncased-mnli**</span> <br/>\n",
    "Accuracy: 0.22239963503649635\n",
    "\n",
    "<span style=\"color:green\">**joeddav/bart-large-mnli-yahoo-answers**</span> <br/>\n",
    "Accuracy: 0.36199817518248173 (1)\n",
    "\n",
    "<span style=\"color:green\">**typeform/mobilebert-uncased-mnli**</span> <br/>\n",
    "Accuracy: 0.18088503649635038\n",
    "\n",
    "<span style=\"color:green\">**cross-encoder/nli-distilroberta-base**</span> <br/>\n",
    "Accuracy: 0.24657846715328466\n",
    "\n",
    "<span style=\"color:green\">**Narsil/deberta-large-mnli-zero-cls**</span> <br/>\n",
    "Accuracy: 0.20369525547445255\n",
    "\n",
    "<span style=\"color:green\">**cross-encoder/nli-roberta-base**</span> <br/>\n",
    "Accuracy: 0.23882299270072993\n",
    "\n",
    "<span style=\"color:green\">**cross-encoder/nli-deberta-base**</span> <br/>\n",
    "Accuracy: 0.2732664233576642 (3)\n",
    "\n",
    "<span style=\"color:green\">**cross-encoder/nli-MiniLM2-L6-H768**</span> <br/>\n",
    "Accuracy: 0.28558394160583944 (2)\n",
    "\n",
    "<span style=\"color:green\">**typeform/squeezebert-mnli**</span> <br/>\n",
    "Accuracy: 0.06113138686131387\n",
    "\n",
    "<span style=\"color:green\">**navteca/bart-large-mnli**</span> <br/>\n",
    "Accuracy: 0.21920620437956204"
   ]
  },
  {
   "cell_type": "markdown",
   "metadata": {},
   "source": [
    "## inputs_text_head_dot"
   ]
  },
  {
   "cell_type": "code",
   "execution_count": null,
   "metadata": {},
   "outputs": [],
   "source": [
    "results = classifier(inputs_text_head_dot[sample_start:sample_end], classes, num_workers=NUM_WORKERS, truncation=True, padding=True)"
   ]
  },
  {
   "cell_type": "code",
   "execution_count": null,
   "metadata": {},
   "outputs": [],
   "source": [
    "print(\"Accuracy:\", accuracy(results, targets_annotype[sample_start:sample_end]))"
   ]
  },
  {
   "cell_type": "markdown",
   "metadata": {},
   "source": [
    "<span style=\"color:green\">**typeform/distilbert-base-uncased-mnli**</span> <br/>\n",
    "Accuracy: 0.16833941605839417\n",
    "\n",
    "<span style=\"color:green\">**joeddav/bart-large-mnli-yahoo-answers**</span> <br/>\n",
    "Accuracy: 0.19046532846715328"
   ]
  },
  {
   "cell_type": "markdown",
   "metadata": {},
   "source": [
    "## inputs_head_dot_text"
   ]
  },
  {
   "cell_type": "code",
   "execution_count": null,
   "metadata": {},
   "outputs": [],
   "source": [
    "results = classifier(inputs_head_dot_text[sample_start:sample_end], classes, num_workers=NUM_WORKERS, truncation=True, padding=True)"
   ]
  },
  {
   "cell_type": "code",
   "execution_count": null,
   "metadata": {},
   "outputs": [],
   "source": [
    "print(\"Accuracy:\", accuracy(results, targets_annotype[sample_start:sample_end]))"
   ]
  },
  {
   "cell_type": "markdown",
   "metadata": {},
   "source": [
    "<span style=\"color:green\">**typeform/distilbert-base-uncased-mnli**</span> <br/>\n",
    "Accuracy: 0.18225364963503649\n",
    "\n",
    "<span style=\"color:green\">**joeddav/bart-large-mnli-yahoo-answers**</span> <br/>\n",
    "Accuracy: 0.1968521897810219"
   ]
  }
 ],
 "metadata": {
  "colab": {
   "collapsed_sections": [],
   "name": "annotation_type_experiments.ipynb",
   "provenance": []
  },
  "kernelspec": {
   "display_name": "Python 3",
   "language": "python",
   "name": "python3"
  },
  "language_info": {
   "codemirror_mode": {
    "name": "ipython",
    "version": 3
   },
   "file_extension": ".py",
   "mimetype": "text/x-python",
   "name": "python",
   "nbconvert_exporter": "python",
   "pygments_lexer": "ipython3",
   "version": "3.8.7"
  }
 },
 "nbformat": 4,
 "nbformat_minor": 4
}
