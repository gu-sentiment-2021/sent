{
  "cells": [
    {
      "cell_type": "code",
      "execution_count": null,
      "metadata": {
        "colab": {
          "base_uri": "https://localhost:8080/"
        },
        "id": "ce192a0a-9703-4393-ab55-c24cdd1222cc",
        "outputId": "323b0ae1-03c3-449c-9475-7e009e65de5e"
      },
      "outputs": [
        {
          "output_type": "stream",
          "name": "stdout",
          "text": [
            "Collecting transformers[sentencepiece]\n",
            "  Downloading transformers-4.15.0-py3-none-any.whl (3.4 MB)\n",
            "\u001b[K     |████████████████████████████████| 3.4 MB 5.5 MB/s \n",
            "\u001b[?25hRequirement already satisfied: numpy>=1.17 in /usr/local/lib/python3.7/dist-packages (from transformers[sentencepiece]) (1.19.5)\n",
            "Requirement already satisfied: regex!=2019.12.17 in /usr/local/lib/python3.7/dist-packages (from transformers[sentencepiece]) (2019.12.20)\n",
            "Requirement already satisfied: importlib-metadata in /usr/local/lib/python3.7/dist-packages (from transformers[sentencepiece]) (4.8.2)\n",
            "Collecting tokenizers<0.11,>=0.10.1\n",
            "  Downloading tokenizers-0.10.3-cp37-cp37m-manylinux_2_5_x86_64.manylinux1_x86_64.manylinux_2_12_x86_64.manylinux2010_x86_64.whl (3.3 MB)\n",
            "\u001b[K     |████████████████████████████████| 3.3 MB 50.1 MB/s \n",
            "\u001b[?25hRequirement already satisfied: filelock in /usr/local/lib/python3.7/dist-packages (from transformers[sentencepiece]) (3.4.0)\n",
            "Collecting huggingface-hub<1.0,>=0.1.0\n",
            "  Downloading huggingface_hub-0.2.1-py3-none-any.whl (61 kB)\n",
            "\u001b[K     |████████████████████████████████| 61 kB 518 kB/s \n",
            "\u001b[?25hCollecting pyyaml>=5.1\n",
            "  Downloading PyYAML-6.0-cp37-cp37m-manylinux_2_5_x86_64.manylinux1_x86_64.manylinux_2_12_x86_64.manylinux2010_x86_64.whl (596 kB)\n",
            "\u001b[K     |████████████████████████████████| 596 kB 33.2 MB/s \n",
            "\u001b[?25hRequirement already satisfied: packaging>=20.0 in /usr/local/lib/python3.7/dist-packages (from transformers[sentencepiece]) (21.3)\n",
            "Collecting sacremoses\n",
            "  Downloading sacremoses-0.0.46-py3-none-any.whl (895 kB)\n",
            "\u001b[K     |████████████████████████████████| 895 kB 45.1 MB/s \n",
            "\u001b[?25hRequirement already satisfied: requests in /usr/local/lib/python3.7/dist-packages (from transformers[sentencepiece]) (2.23.0)\n",
            "Requirement already satisfied: tqdm>=4.27 in /usr/local/lib/python3.7/dist-packages (from transformers[sentencepiece]) (4.62.3)\n",
            "Collecting sentencepiece!=0.1.92,>=0.1.91\n",
            "  Downloading sentencepiece-0.1.96-cp37-cp37m-manylinux_2_17_x86_64.manylinux2014_x86_64.whl (1.2 MB)\n",
            "\u001b[K     |████████████████████████████████| 1.2 MB 47.8 MB/s \n",
            "\u001b[?25hRequirement already satisfied: protobuf in /usr/local/lib/python3.7/dist-packages (from transformers[sentencepiece]) (3.17.3)\n",
            "Requirement already satisfied: typing-extensions>=3.7.4.3 in /usr/local/lib/python3.7/dist-packages (from huggingface-hub<1.0,>=0.1.0->transformers[sentencepiece]) (3.10.0.2)\n",
            "Requirement already satisfied: pyparsing!=3.0.5,>=2.0.2 in /usr/local/lib/python3.7/dist-packages (from packaging>=20.0->transformers[sentencepiece]) (3.0.6)\n",
            "Requirement already satisfied: zipp>=0.5 in /usr/local/lib/python3.7/dist-packages (from importlib-metadata->transformers[sentencepiece]) (3.6.0)\n",
            "Requirement already satisfied: six>=1.9 in /usr/local/lib/python3.7/dist-packages (from protobuf->transformers[sentencepiece]) (1.15.0)\n",
            "Requirement already satisfied: certifi>=2017.4.17 in /usr/local/lib/python3.7/dist-packages (from requests->transformers[sentencepiece]) (2021.10.8)\n",
            "Requirement already satisfied: idna<3,>=2.5 in /usr/local/lib/python3.7/dist-packages (from requests->transformers[sentencepiece]) (2.10)\n",
            "Requirement already satisfied: urllib3!=1.25.0,!=1.25.1,<1.26,>=1.21.1 in /usr/local/lib/python3.7/dist-packages (from requests->transformers[sentencepiece]) (1.24.3)\n",
            "Requirement already satisfied: chardet<4,>=3.0.2 in /usr/local/lib/python3.7/dist-packages (from requests->transformers[sentencepiece]) (3.0.4)\n",
            "Requirement already satisfied: click in /usr/local/lib/python3.7/dist-packages (from sacremoses->transformers[sentencepiece]) (7.1.2)\n",
            "Requirement already satisfied: joblib in /usr/local/lib/python3.7/dist-packages (from sacremoses->transformers[sentencepiece]) (1.1.0)\n",
            "Installing collected packages: pyyaml, tokenizers, sacremoses, huggingface-hub, transformers, sentencepiece\n",
            "  Attempting uninstall: pyyaml\n",
            "    Found existing installation: PyYAML 3.13\n",
            "    Uninstalling PyYAML-3.13:\n",
            "      Successfully uninstalled PyYAML-3.13\n",
            "Successfully installed huggingface-hub-0.2.1 pyyaml-6.0 sacremoses-0.0.46 sentencepiece-0.1.96 tokenizers-0.10.3 transformers-4.15.0\n",
            "Collecting wandb\n",
            "  Downloading wandb-0.12.9-py2.py3-none-any.whl (1.7 MB)\n",
            "\u001b[K     |████████████████████████████████| 1.7 MB 5.2 MB/s \n",
            "\u001b[?25hCollecting shortuuid>=0.5.0\n",
            "  Downloading shortuuid-1.0.8-py3-none-any.whl (9.5 kB)\n",
            "Collecting GitPython>=1.0.0\n",
            "  Downloading GitPython-3.1.24-py3-none-any.whl (180 kB)\n",
            "\u001b[K     |████████████████████████████████| 180 kB 38.0 MB/s \n",
            "\u001b[?25hRequirement already satisfied: promise<3,>=2.0 in /usr/local/lib/python3.7/dist-packages (from wandb) (2.3)\n",
            "Collecting sentry-sdk>=1.0.0\n",
            "  Downloading sentry_sdk-1.5.1-py2.py3-none-any.whl (140 kB)\n",
            "\u001b[K     |████████████████████████████████| 140 kB 38.3 MB/s \n",
            "\u001b[?25hCollecting docker-pycreds>=0.4.0\n",
            "  Downloading docker_pycreds-0.4.0-py2.py3-none-any.whl (9.0 kB)\n",
            "Collecting configparser>=3.8.1\n",
            "  Downloading configparser-5.2.0-py3-none-any.whl (19 kB)\n",
            "Collecting subprocess32>=3.5.3\n",
            "  Downloading subprocess32-3.5.4.tar.gz (97 kB)\n",
            "\u001b[K     |████████████████████████████████| 97 kB 6.8 MB/s \n",
            "\u001b[?25hRequirement already satisfied: protobuf>=3.12.0 in /usr/local/lib/python3.7/dist-packages (from wandb) (3.17.3)\n",
            "Requirement already satisfied: python-dateutil>=2.6.1 in /usr/local/lib/python3.7/dist-packages (from wandb) (2.8.2)\n",
            "Requirement already satisfied: requests<3,>=2.0.0 in /usr/local/lib/python3.7/dist-packages (from wandb) (2.23.0)\n",
            "Collecting pathtools\n",
            "  Downloading pathtools-0.1.2.tar.gz (11 kB)\n",
            "Requirement already satisfied: Click!=8.0.0,>=7.0 in /usr/local/lib/python3.7/dist-packages (from wandb) (7.1.2)\n",
            "Requirement already satisfied: six>=1.13.0 in /usr/local/lib/python3.7/dist-packages (from wandb) (1.15.0)\n",
            "Requirement already satisfied: psutil>=5.0.0 in /usr/local/lib/python3.7/dist-packages (from wandb) (5.4.8)\n",
            "Collecting yaspin>=1.0.0\n",
            "  Downloading yaspin-2.1.0-py3-none-any.whl (18 kB)\n",
            "Requirement already satisfied: PyYAML in /usr/local/lib/python3.7/dist-packages (from wandb) (6.0)\n",
            "Requirement already satisfied: typing-extensions>=3.7.4.3 in /usr/local/lib/python3.7/dist-packages (from GitPython>=1.0.0->wandb) (3.10.0.2)\n",
            "Collecting gitdb<5,>=4.0.1\n",
            "  Downloading gitdb-4.0.9-py3-none-any.whl (63 kB)\n",
            "\u001b[K     |████████████████████████████████| 63 kB 1.3 MB/s \n",
            "\u001b[?25hCollecting smmap<6,>=3.0.1\n",
            "  Downloading smmap-5.0.0-py3-none-any.whl (24 kB)\n",
            "Requirement already satisfied: urllib3!=1.25.0,!=1.25.1,<1.26,>=1.21.1 in /usr/local/lib/python3.7/dist-packages (from requests<3,>=2.0.0->wandb) (1.24.3)\n",
            "Requirement already satisfied: chardet<4,>=3.0.2 in /usr/local/lib/python3.7/dist-packages (from requests<3,>=2.0.0->wandb) (3.0.4)\n",
            "Requirement already satisfied: certifi>=2017.4.17 in /usr/local/lib/python3.7/dist-packages (from requests<3,>=2.0.0->wandb) (2021.10.8)\n",
            "Requirement already satisfied: idna<3,>=2.5 in /usr/local/lib/python3.7/dist-packages (from requests<3,>=2.0.0->wandb) (2.10)\n",
            "Requirement already satisfied: termcolor<2.0.0,>=1.1.0 in /usr/local/lib/python3.7/dist-packages (from yaspin>=1.0.0->wandb) (1.1.0)\n",
            "Building wheels for collected packages: subprocess32, pathtools\n",
            "  Building wheel for subprocess32 (setup.py) ... \u001b[?25l\u001b[?25hdone\n",
            "  Created wheel for subprocess32: filename=subprocess32-3.5.4-py3-none-any.whl size=6502 sha256=b15a42e6e4f7169caab51987d0492489632d755811d24a5b59e635a324d3287a\n",
            "  Stored in directory: /root/.cache/pip/wheels/50/ca/fa/8fca8d246e64f19488d07567547ddec8eb084e8c0d7a59226a\n",
            "  Building wheel for pathtools (setup.py) ... \u001b[?25l\u001b[?25hdone\n",
            "  Created wheel for pathtools: filename=pathtools-0.1.2-py3-none-any.whl size=8807 sha256=2be915a7ff16031f2c0241d8c6e35503a53c93a531d422255294ec15b6c4b360\n",
            "  Stored in directory: /root/.cache/pip/wheels/3e/31/09/fa59cef12cdcfecc627b3d24273699f390e71828921b2cbba2\n",
            "Successfully built subprocess32 pathtools\n",
            "Installing collected packages: smmap, gitdb, yaspin, subprocess32, shortuuid, sentry-sdk, pathtools, GitPython, docker-pycreds, configparser, wandb\n",
            "Successfully installed GitPython-3.1.24 configparser-5.2.0 docker-pycreds-0.4.0 gitdb-4.0.9 pathtools-0.1.2 sentry-sdk-1.5.1 shortuuid-1.0.8 smmap-5.0.0 subprocess32-3.5.4 wandb-0.12.9 yaspin-2.1.0\n"
          ]
        }
      ],
      "source": [
        "!pip install transformers[sentencepiece]\n",
        "!pip install wandb"
      ],
      "id": "ce192a0a-9703-4393-ab55-c24cdd1222cc"
    },
    {
      "cell_type": "code",
      "execution_count": null,
      "metadata": {
        "id": "96f96831-ae2c-4adc-8730-cc07b9b5ba74"
      },
      "outputs": [],
      "source": [
        "import gc\n",
        "import torch\n",
        "import numpy as np\n",
        "import pandas as pd\n",
        "from transformers import AutoTokenizer, AutoModelForSequenceClassification, TrainingArguments, Trainer, DataCollatorWithPadding, EarlyStoppingCallback\n",
        "from sklearn.model_selection import train_test_split\n",
        "from sklearn.metrics import precision_recall_fscore_support, accuracy_score, confusion_matrix\n",
        "import json\n",
        "from urllib.request import urlopen\n",
        "import seaborn as sns\n",
        "import matplotlib.pyplot as plt\n",
        "import wandb\n",
        "\n",
        "%matplotlib inline\n",
        "%config InlineBackend.figure_format='retina'"
      ],
      "id": "96f96831-ae2c-4adc-8730-cc07b9b5ba74"
    },
    {
      "cell_type": "code",
      "execution_count": null,
      "metadata": {
        "colab": {
          "base_uri": "https://localhost:8080/"
        },
        "id": "2d2ab8c6-603d-40af-875b-5b6f68f9accc",
        "outputId": "f881658b-521d-4132-e6cd-a481cc7b0f74"
      },
      "outputs": [
        {
          "output_type": "stream",
          "name": "stdout",
          "text": [
            "Device: cuda\n"
          ]
        }
      ],
      "source": [
        "# Setup device\n",
        "\n",
        "device_string = 'cuda' if torch.cuda.is_available() else 'cpu'\n",
        "device_hf = 0 if torch.cuda.is_available() else -1\n",
        "device = torch.device(device_string)\n",
        "print(\"Device:\", device)\n",
        "NUM_WORKERS = 0"
      ],
      "id": "2d2ab8c6-603d-40af-875b-5b6f68f9accc"
    },
    {
      "cell_type": "code",
      "execution_count": null,
      "metadata": {
        "colab": {
          "base_uri": "https://localhost:8080/",
          "height": 104
        },
        "id": "547b4ffa-77dd-4413-bd5b-a33752467915",
        "outputId": "2a0cca94-97cf-432b-970b-e49310088735"
      },
      "outputs": [
        {
          "output_type": "display_data",
          "data": {
            "application/javascript": [
              "\n",
              "        window._wandbApiKey = new Promise((resolve, reject) => {\n",
              "            function loadScript(url) {\n",
              "            return new Promise(function(resolve, reject) {\n",
              "                let newScript = document.createElement(\"script\");\n",
              "                newScript.onerror = reject;\n",
              "                newScript.onload = resolve;\n",
              "                document.body.appendChild(newScript);\n",
              "                newScript.src = url;\n",
              "            });\n",
              "            }\n",
              "            loadScript(\"https://cdn.jsdelivr.net/npm/postmate/build/postmate.min.js\").then(() => {\n",
              "            const iframe = document.createElement('iframe')\n",
              "            iframe.style.cssText = \"width:0;height:0;border:none\"\n",
              "            document.body.appendChild(iframe)\n",
              "            const handshake = new Postmate({\n",
              "                container: iframe,\n",
              "                url: 'https://wandb.ai/authorize'\n",
              "            });\n",
              "            const timeout = setTimeout(() => reject(\"Couldn't auto authenticate\"), 5000)\n",
              "            handshake.then(function(child) {\n",
              "                child.on('authorize', data => {\n",
              "                    clearTimeout(timeout)\n",
              "                    resolve(data)\n",
              "                });\n",
              "            });\n",
              "            })\n",
              "        });\n",
              "    "
            ],
            "text/plain": [
              "<IPython.core.display.Javascript object>"
            ]
          },
          "metadata": {}
        },
        {
          "output_type": "stream",
          "name": "stderr",
          "text": [
            "\u001b[34m\u001b[1mwandb\u001b[0m: You can find your API key in your browser here: https://wandb.ai/authorize\n"
          ]
        },
        {
          "name": "stdout",
          "output_type": "stream",
          "text": [
            "wandb: Paste an API key from your profile and hit enter, or press ctrl+c to quit: ··········\n"
          ]
        },
        {
          "output_type": "stream",
          "name": "stderr",
          "text": [
            "\u001b[34m\u001b[1mwandb\u001b[0m: Appending key for api.wandb.ai to your netrc file: /root/.netrc\n"
          ]
        },
        {
          "output_type": "stream",
          "name": "stdout",
          "text": [
            "env: WANDB_PROJECT=annotype_text_classification\n"
          ]
        }
      ],
      "source": [
        "# Setup wandb\n",
        "\n",
        "wandb.login()\n",
        "%env WANDB_PROJECT=annotype_text_classification"
      ],
      "id": "547b4ffa-77dd-4413-bd5b-a33752467915"
    },
    {
      "cell_type": "code",
      "execution_count": null,
      "metadata": {
        "id": "856a085e-a728-4a8e-8f75-193820216f52"
      },
      "outputs": [],
      "source": [
        "# Config\n",
        "\n",
        "IGNORED_CLASSES = [] # e.g. set it to ['sentiment'] to remove the objects with the type of sentiment, from the databset\n",
        "MODEL_NAME = 'bert-base-uncased'\n",
        "INPUT_TYPE = 'TEXT_HEAD' # Possible values: 'TEXT_HEAD', 'TEXT_ONLY', 'HEAD_ONLY'\n",
        "TRAIN_BATCH_SIZE = 16\n",
        "EVAL_BATCH_SIZE = 64\n",
        "LOGGING_STEPS = 500\n",
        "EVAL_STRATEGY = 'steps'\n",
        "SAVE_STRATEGY = 'steps'\n",
        "WEIGHT_DECAY = 0.1\n",
        "LOAD_BEST_MODEL_AT_END = True\n",
        "NUM_TRAIN_EPOCHS = 10\n",
        "CALLBACKS = [EarlyStoppingCallback(4)]\n",
        "SEED = 0\n",
        "DATA = 'MPQA2.0_v211202'\n",
        "TEST_SIZE = 0.15\n",
        "VAL_SIZE = 0.15 / (1 - TEST_SIZE)"
      ],
      "id": "856a085e-a728-4a8e-8f75-193820216f52"
    },
    {
      "cell_type": "code",
      "execution_count": null,
      "metadata": {
        "id": "stretch-bride"
      },
      "outputs": [],
      "source": [
        "# Getting data & augmented data urls\n",
        "\n",
        "data_name_to_google_drive_url = {\n",
        "    'MPQA3.0_v211021': 'https://drive.google.com/file/d/1e-pDfZ2cyBzgD9MEerP9YCcDnPvIQuGo/view?usp=sharing',\n",
        "    'MPQA2.0_v211202': 'https://drive.google.com/file/d/1hVFG4lA-6W9OtWurU5EQ3wDtlwtO7iLY/view?usp=sharing'\n",
        "}\n",
        "\n",
        "# Get direct download link\n",
        "def get_download_url_from_google_drive_url(google_drive_url):\n",
        "    return f'https://drive.google.com/uc?id={google_drive_url.split(\"/\")[5]}&export=download'\n",
        "\n",
        "# Data URL\n",
        "google_drive_url = data_name_to_google_drive_url[DATA]\n",
        "data_url = get_download_url_from_google_drive_url(google_drive_url)"
      ],
      "id": "stretch-bride"
    },
    {
      "cell_type": "code",
      "execution_count": null,
      "metadata": {
        "colab": {
          "base_uri": "https://localhost:8080/"
        },
        "id": "b6a21171-f03f-45d1-9293-4bcb4183eb02",
        "outputId": "3e2bd39f-4ab3-4778-f4ef-a17649f2df54"
      },
      "outputs": [
        {
          "output_type": "execute_result",
          "data": {
            "text/plain": [
              "<torch._C.Generator at 0x7f74478e4590>"
            ]
          },
          "metadata": {},
          "execution_count": 8
        }
      ],
      "source": [
        "np.random.seed(SEED)\n",
        "torch.manual_seed(SEED)"
      ],
      "id": "b6a21171-f03f-45d1-9293-4bcb4183eb02"
    },
    {
      "cell_type": "markdown",
      "metadata": {
        "id": "65615ad0-5c82-4079-be75-122e75d8441c"
      },
      "source": [
        "# Preparing the dataset"
      ],
      "id": "65615ad0-5c82-4079-be75-122e75d8441c"
    },
    {
      "cell_type": "code",
      "execution_count": null,
      "metadata": {
        "id": "28384faa-36ff-4caa-b598-4946d990c7ba"
      },
      "outputs": [],
      "source": [
        "# Fetch the dataset\n",
        "\n",
        "FETCH_FROM_WEB = True ### Set it to true, to download the datasets from github and google drive ###\n",
        "\n",
        "if FETCH_FROM_WEB:\n",
        "    response = urlopen(data_url)\n",
        "    csds_collection = json.loads(response.read())\n",
        "else:\n",
        "    file_address = '..\\\\json2csds\\\\data.json'\n",
        "    with open(file_address) as file:\n",
        "        csds_collection = json.load(file)"
      ],
      "id": "28384faa-36ff-4caa-b598-4946d990c7ba"
    },
    {
      "cell_type": "code",
      "execution_count": null,
      "metadata": {
        "colab": {
          "base_uri": "https://localhost:8080/"
        },
        "id": "ee725191-73e1-47ee-a8d6-1465aa32b6f4",
        "outputId": "e33eb868-6a26-437b-b43f-267f9e0cbaed"
      },
      "outputs": [
        {
          "output_type": "stream",
          "name": "stdout",
          "text": [
            "inputs and targets for 129-th csds object (out of 23774):\n",
            "inputs_text:\t\t President Bush described Iraq, Iran and North Korea as an ``axis \n",
            "of evil'' during his State of the Union address on Jan. 26.\n",
            "inputs_head:\t\t an ``axis \n",
            "of evil\n",
            "inputs_tuple_text_head:\t (\"President Bush described Iraq, Iran and North Korea as an ``axis \\nof evil'' during his State of the Union address on Jan. 26.\", 'an ``axis \\nof evil')\n",
            "targets_annotype:\t expressive_subjectivity\n",
            "doc_id:\t non_fbis/11.14.43-703\n"
          ]
        }
      ],
      "source": [
        "# Preparing inputs and targets\n",
        "\n",
        "inputs_text = []\n",
        "inputs_head = []\n",
        "inputs_tuple_text_head = []\n",
        "targets_annotype = []\n",
        "doc_id = []\n",
        "n_samples = 0\n",
        "\n",
        "for csds_object in csds_collection['csds_objects']:\n",
        "    if csds_object['annotation_type'] not in IGNORED_CLASSES:\n",
        "        inputs_text += [csds_object['text']]\n",
        "        inputs_head += [csds_object['head']]\n",
        "        inputs_tuple_text_head += [(csds_object['text'], csds_object['head'])]\n",
        "        targets_annotype += [csds_object['annotation_type']]\n",
        "        doc_id += [csds_object['doc_id']]\n",
        "        n_samples += 1\n",
        "\n",
        "i = 128 # A sample\n",
        "print(f'inputs and targets for {i+1}-th csds object (out of {n_samples}):')\n",
        "print('inputs_text:\\t\\t', inputs_text[i])\n",
        "print('inputs_head:\\t\\t', inputs_head[i])\n",
        "print('inputs_tuple_text_head:\\t', inputs_tuple_text_head[i])\n",
        "print('targets_annotype:\\t', targets_annotype[i])\n",
        "print('doc_id:\\t', doc_id[i])"
      ],
      "id": "ee725191-73e1-47ee-a8d6-1465aa32b6f4"
    },
    {
      "cell_type": "code",
      "source": [
        "docs = sorted(list(set(doc_id)))"
      ],
      "metadata": {
        "id": "TI0gQw949VXw"
      },
      "id": "TI0gQw949VXw",
      "execution_count": null,
      "outputs": []
    },
    {
      "cell_type": "code",
      "execution_count": null,
      "metadata": {
        "colab": {
          "base_uri": "https://localhost:8080/"
        },
        "id": "b3545fa6-6969-45a9-b020-882f78a1322b",
        "outputId": "30a32b4b-85b7-480e-a594-b741eae37d13"
      },
      "outputs": [
        {
          "output_type": "stream",
          "name": "stdout",
          "text": [
            "[('agreement', 384), ('arguing', 2912), ('expressive_subjectivity', 13661), ('intention', 509), ('other_attitude', 939), ('sentiment', 5053), ('speculation', 316)]\n"
          ]
        }
      ],
      "source": [
        "# Count the number of each annotation type and extract the labels\n",
        "\n",
        "num_annotype = {}\n",
        "for annotype in targets_annotype:\n",
        "    num_annotype[annotype] = num_annotype.get(annotype, 0) + 1\n",
        "print(sorted(num_annotype.items()))\n",
        "classes = sorted(list(num_annotype.keys()))"
      ],
      "id": "b3545fa6-6969-45a9-b020-882f78a1322b"
    },
    {
      "cell_type": "code",
      "execution_count": null,
      "metadata": {
        "id": "499e078f-7b8d-4099-a123-7d2c521bcaa0"
      },
      "outputs": [],
      "source": [
        "# Create a map for class ids and class names\n",
        "\n",
        "classname2classid = {classes[i]:i for i in range(len(classes))}\n",
        "classid2classname = {i:classes[i] for i in range(len(classes))}"
      ],
      "id": "499e078f-7b8d-4099-a123-7d2c521bcaa0"
    },
    {
      "cell_type": "code",
      "execution_count": null,
      "metadata": {
        "id": "eb4bb5a3-e693-4525-a939-40937b6848ec"
      },
      "outputs": [],
      "source": [
        "# Apply classname2classid mapping\n",
        "\n",
        "y = [classname2classid[i] for i in targets_annotype]"
      ],
      "id": "eb4bb5a3-e693-4525-a939-40937b6848ec"
    },
    {
      "cell_type": "code",
      "execution_count": null,
      "metadata": {
        "id": "c70e31d0-9937-447b-a8f3-459c9310ceee"
      },
      "outputs": [],
      "source": [
        "# Shuffle and split the dataset into training and validation sets\n",
        "\n",
        "TEST_SPLIT_SEED = 0\n",
        "VAL_SPLIT_SEED = 0\n",
        "\n",
        "if TEST_SIZE != 0 :\n",
        "    # Train Val Test -> Train Val | Test\n",
        "    docs_train_val, docs_test = train_test_split(\n",
        "        np.array(docs), test_size=TEST_SIZE,\n",
        "        random_state=TEST_SPLIT_SEED, shuffle=True\n",
        "    )\n",
        "    docs_test = docs_test.tolist()\n",
        "else:\n",
        "    docs_train_val = np.array(docs)\n",
        "\n",
        "# Train Val -> Train | Val\n",
        "docs_train, docs_val = train_test_split(\n",
        "    docs_train_val, test_size=VAL_SIZE,\n",
        "    random_state=VAL_SPLIT_SEED, shuffle=True\n",
        ")\n",
        "\n",
        "docs_train = docs_train.tolist()\n",
        "docs_val   = docs_val.tolist()"
      ],
      "id": "c70e31d0-9937-447b-a8f3-459c9310ceee"
    },
    {
      "cell_type": "code",
      "source": [
        "# Prepare X and y\n",
        "\n",
        "X_train_text = []\n",
        "X_train_head = []\n",
        "X_val_text = []\n",
        "X_val_head = []\n",
        "X_test_text = []\n",
        "X_test_head = []\n",
        "\n",
        "y_train = []\n",
        "y_val = []\n",
        "y_test = []\n",
        "\n",
        "for i in range(n_samples):\n",
        "    if doc_id[i] in docs_train:\n",
        "        X_train_text.append(inputs_text[i])\n",
        "        X_train_head.append(inputs_head[i])\n",
        "        y_train.append(y[i])\n",
        "    elif doc_id[i] in docs_val:\n",
        "        X_val_text.append(inputs_text[i])\n",
        "        X_val_head.append(inputs_head[i])\n",
        "        y_val.append(y[i])\n",
        "    elif doc_id[i] in docs_test:\n",
        "        X_test_text.append(inputs_text[i])\n",
        "        X_test_head.append(inputs_head[i])\n",
        "        y_test.append(y[i])"
      ],
      "metadata": {
        "id": "U9J30aA0-viJ"
      },
      "id": "U9J30aA0-viJ",
      "execution_count": null,
      "outputs": []
    },
    {
      "cell_type": "code",
      "source": [
        "print('Train size:\\t\\t', len(X_train_text))\n",
        "print('Validation size:\\t', len(X_val_text))\n",
        "print('Test size:\\t\\t', len(X_test_text))"
      ],
      "metadata": {
        "colab": {
          "base_uri": "https://localhost:8080/"
        },
        "id": "nCCBMJnhGi5G",
        "outputId": "d3211cf4-eaf9-4806-f0f3-997920811070"
      },
      "id": "nCCBMJnhGi5G",
      "execution_count": null,
      "outputs": [
        {
          "output_type": "stream",
          "name": "stdout",
          "text": [
            "Train size:\t\t 16856\n",
            "Validation size:\t 3500\n",
            "Test size:\t\t 3418\n"
          ]
        }
      ]
    },
    {
      "cell_type": "markdown",
      "metadata": {
        "id": "37ab1607-bad3-4222-b15c-0ac3ec39acd5"
      },
      "source": [
        "# Preparing the model and torch dataset"
      ],
      "id": "37ab1607-bad3-4222-b15c-0ac3ec39acd5"
    },
    {
      "cell_type": "code",
      "execution_count": null,
      "metadata": {
        "colab": {
          "base_uri": "https://localhost:8080/",
          "height": 284,
          "referenced_widgets": [
            "49ed1a2eff5a4c59a34a9b77355580dd",
            "df956343bab045a1bdd4938c06491cef",
            "9198b71209f24999ad3100475b7cbd0f",
            "4ac0eeb8ce364ff381029f805284c62d",
            "0bd3a01a178f43cd9236d193ee6a6658",
            "1528fd588cd7427099ff122c35ef4249",
            "13e8e5be0354479fa2d9f64788410a76",
            "7e5035fb142e470d85cf3e15e305cbd3",
            "180652c2d4ef4c6a8db462a88578f2e9",
            "067863ee39d34085b3d6ae4567f67fa9",
            "e4a2f7ce3dc34428b9e689e0a1504241",
            "722d4f01a8724c47987cdac688066938",
            "0eb753fd03624e768e0c6f6e8b65b9fa",
            "b0231578da4047938f10934236bb2cb9",
            "7e9818b64cb24972bf5a215c99c5c868",
            "41f5639a0a0c4dcab52787b512cc290c",
            "4e63abe07f384b92aae18322e12faa05",
            "071bf46dae6b4f2381ab704b61bba3d9",
            "cc9e149fa9b24257bc746969ec4dcb1d",
            "46c6fb9f90f040e087d942d1d43fd4ee",
            "5e8c7d18ecec4082bb18156b395daa3f",
            "e4ee32911a764f9d8bdf544e6cba4838",
            "6466bf98baf94280aadf7dc9530a3d02",
            "3ea29047da2c4aa0b91e77f436bf7e5f",
            "b40d9e2aaea94e3bae6a001ecb67629b",
            "87048e092d15418ea632ad670275fdbb",
            "b44d8e53f8664239851d7636f8273fbf",
            "e5b4559d6ea54a6ab89558300a9c8a16",
            "eda363f9c22948eda096834066f3d8e0",
            "ce9df1da78514343bd2e171dc9cd206b",
            "a491c76ec8564d8cafba9c0fc0381223",
            "0b6d9e1e81d14a039e59474403c381b9",
            "8176b075992040029bcee68a1dfc54ba",
            "0ed64cb640434789a71639e54df7143e",
            "4bd611c6813a4a6e9576e8b3262bf333",
            "d9d9c75a638d4c75895d3f35bdb3579c",
            "d45a1d41d40b497e9711df2d29946b11",
            "1146d16a11aa423090ac57743e4d9d1a",
            "6b3ed02219704d9bbb0339ae3b9899a0",
            "55ea704420b8469cb933ef2737d7c5fc",
            "cbb2b656c6f94440925a9ea37a1eeee0",
            "63ffac9a8100493e9977353cffc45208",
            "b6e0088e3ec34557bf75250be5e21d1c",
            "6676bccf5be84be19576bb7869e88fa6",
            "f0737eba7a434e06909fed6b89f90182",
            "325b126feb1846438f45a3870a0ffb9e",
            "621b5969451c46748cefddae02d3f030",
            "852e075b9ead4552894964bfd0bae090",
            "8ffb980c0df34b8297dd560a6cb31ae3",
            "7e2a023bbb6d4ba3a56010cee803882f",
            "66b13d8be26d486f8e67098e6b2e2ff6",
            "76097a1d2bc8447d965e12bcd6fe5321",
            "01a0c90d000d40e7a184e32a3db2e3d0",
            "8c76f338f264449183d7d63b60d1ce8d",
            "00e5e83828994391b9c0819fd2636b5c"
          ]
        },
        "id": "b732e3ad-d4f0-4ee5-8d6c-0bdc523539f8",
        "outputId": "10496b31-3502-4869-d0ce-41659d8e10b5"
      },
      "outputs": [
        {
          "output_type": "display_data",
          "data": {
            "application/vnd.jupyter.widget-view+json": {
              "model_id": "49ed1a2eff5a4c59a34a9b77355580dd",
              "version_minor": 0,
              "version_major": 2
            },
            "text/plain": [
              "Downloading:   0%|          | 0.00/28.0 [00:00<?, ?B/s]"
            ]
          },
          "metadata": {}
        },
        {
          "output_type": "display_data",
          "data": {
            "application/vnd.jupyter.widget-view+json": {
              "model_id": "722d4f01a8724c47987cdac688066938",
              "version_minor": 0,
              "version_major": 2
            },
            "text/plain": [
              "Downloading:   0%|          | 0.00/570 [00:00<?, ?B/s]"
            ]
          },
          "metadata": {}
        },
        {
          "output_type": "display_data",
          "data": {
            "application/vnd.jupyter.widget-view+json": {
              "model_id": "6466bf98baf94280aadf7dc9530a3d02",
              "version_minor": 0,
              "version_major": 2
            },
            "text/plain": [
              "Downloading:   0%|          | 0.00/226k [00:00<?, ?B/s]"
            ]
          },
          "metadata": {}
        },
        {
          "output_type": "display_data",
          "data": {
            "application/vnd.jupyter.widget-view+json": {
              "model_id": "0ed64cb640434789a71639e54df7143e",
              "version_minor": 0,
              "version_major": 2
            },
            "text/plain": [
              "Downloading:   0%|          | 0.00/455k [00:00<?, ?B/s]"
            ]
          },
          "metadata": {}
        },
        {
          "output_type": "display_data",
          "data": {
            "application/vnd.jupyter.widget-view+json": {
              "model_id": "f0737eba7a434e06909fed6b89f90182",
              "version_minor": 0,
              "version_major": 2
            },
            "text/plain": [
              "Downloading:   0%|          | 0.00/420M [00:00<?, ?B/s]"
            ]
          },
          "metadata": {}
        },
        {
          "output_type": "stream",
          "name": "stderr",
          "text": [
            "Some weights of the model checkpoint at bert-base-uncased were not used when initializing BertForSequenceClassification: ['cls.predictions.transform.dense.weight', 'cls.predictions.decoder.weight', 'cls.predictions.bias', 'cls.predictions.transform.LayerNorm.weight', 'cls.seq_relationship.weight', 'cls.predictions.transform.LayerNorm.bias', 'cls.seq_relationship.bias', 'cls.predictions.transform.dense.bias']\n",
            "- This IS expected if you are initializing BertForSequenceClassification from the checkpoint of a model trained on another task or with another architecture (e.g. initializing a BertForSequenceClassification model from a BertForPreTraining model).\n",
            "- This IS NOT expected if you are initializing BertForSequenceClassification from the checkpoint of a model that you expect to be exactly identical (initializing a BertForSequenceClassification model from a BertForSequenceClassification model).\n",
            "Some weights of BertForSequenceClassification were not initialized from the model checkpoint at bert-base-uncased and are newly initialized: ['classifier.bias', 'classifier.weight']\n",
            "You should probably TRAIN this model on a down-stream task to be able to use it for predictions and inference.\n"
          ]
        }
      ],
      "source": [
        "# Load the model, tokenizer\n",
        "\n",
        "tokenizer = AutoTokenizer.from_pretrained(MODEL_NAME)\n",
        "model = AutoModelForSequenceClassification.from_pretrained(\n",
        "    MODEL_NAME, num_labels=len(classes), resume_download=True, ignore_mismatched_sizes=True\n",
        ")"
      ],
      "id": "b732e3ad-d4f0-4ee5-8d6c-0bdc523539f8"
    },
    {
      "cell_type": "code",
      "execution_count": null,
      "metadata": {
        "id": "33ceb2ae-6206-4e83-92b7-46b7a22c93d0"
      },
      "outputs": [],
      "source": [
        "# Tokenize the inputs\n",
        "\n",
        "if INPUT_TYPE == 'TEXT_HEAD':\n",
        "    X_train_tokenized = tokenizer(X_train_text, X_train_head, truncation=True)\n",
        "    X_val_tokenized   = tokenizer(X_val_text,   X_val_head,   truncation=True)\n",
        "    if TEST_SIZE > 0:\n",
        "        X_test_tokenized = tokenizer(X_test_text, X_test_head, truncation=True)\n",
        "\n",
        "if INPUT_TYPE == 'TEXT_ONLY':\n",
        "    X_train_tokenized = tokenizer(X_train_text, truncation=True)\n",
        "    X_val_tokenized   = tokenizer(X_val_text,   truncation=True)\n",
        "    if TEST_SIZE > 0:\n",
        "        X_test_tokenized = tokenizer(X_test_text, truncation=True)\n",
        "\n",
        "if INPUT_TYPE == 'HEAD_ONLY':\n",
        "    X_train_tokenized = tokenizer(X_train_head, truncation=True)\n",
        "    X_val_tokenized   = tokenizer(X_val_head,   truncation=True)\n",
        "    if TEST_SIZE > 0:\n",
        "        X_test_tokenized = tokenizer(X_test_head, truncation=True)"
      ],
      "id": "33ceb2ae-6206-4e83-92b7-46b7a22c93d0"
    },
    {
      "cell_type": "code",
      "execution_count": null,
      "metadata": {
        "id": "a8af2aa8-1911-4a04-bd60-6b0d87c0896d",
        "colab": {
          "base_uri": "https://localhost:8080/"
        },
        "outputId": "c5525581-f7da-46a4-e6f0-a3cc0bc06125"
      },
      "outputs": [
        {
          "output_type": "stream",
          "name": "stdout",
          "text": [
            "Maximum input length: 188\n"
          ]
        }
      ],
      "source": [
        "# Find the largest input size\n",
        "\n",
        "t = 0\n",
        "for i in X_train_tokenized['input_ids']:\n",
        "    t = max(t, len(i))\n",
        "for i in X_val_tokenized['input_ids']:\n",
        "    t = max(t, len(i))\n",
        "print(\"Maximum input length:\", t)"
      ],
      "id": "a8af2aa8-1911-4a04-bd60-6b0d87c0896d"
    },
    {
      "cell_type": "code",
      "execution_count": null,
      "metadata": {
        "id": "d1fb9aae-3aa3-47a4-befe-cf9a80978ebd"
      },
      "outputs": [],
      "source": [
        "# Create torch dataset\n",
        "\n",
        "class Dataset(torch.utils.data.Dataset):\n",
        "    def __init__(self, encodings, labels=None):\n",
        "        self.encodings = encodings\n",
        "        self.labels = labels\n",
        "\n",
        "    def __getitem__(self, idx):\n",
        "        item = {key: torch.tensor(val[idx]) for key, val in self.encodings.items()}\n",
        "        if self.labels:\n",
        "            item[\"labels\"] = torch.tensor(self.labels[idx])\n",
        "        return item\n",
        "\n",
        "    def __len__(self):\n",
        "        return len(self.encodings[\"input_ids\"])\n",
        "\n",
        "train_dataset = Dataset(X_train_tokenized, y_train)\n",
        "val_dataset = Dataset(X_val_tokenized, y_val)"
      ],
      "id": "d1fb9aae-3aa3-47a4-befe-cf9a80978ebd"
    },
    {
      "cell_type": "code",
      "execution_count": null,
      "metadata": {
        "id": "1b844adf-e40c-4712-b714-79ece6327c28"
      },
      "outputs": [],
      "source": [
        "# Data collator\n",
        "\n",
        "data_collator = DataCollatorWithPadding(tokenizer=tokenizer)"
      ],
      "id": "1b844adf-e40c-4712-b714-79ece6327c28"
    },
    {
      "cell_type": "code",
      "execution_count": null,
      "metadata": {
        "id": "b846d85b-c0c8-4d6a-a273-efab206be652"
      },
      "outputs": [],
      "source": [
        "# Metrics\n",
        "\n",
        "def compute_metrics(pred):\n",
        "    targets = pred.label_ids\n",
        "    preds = pred.predictions.argmax(-1)\n",
        "    labels = [i for i in range(len(classes))] # [0, 1, 2, ..., len(classes)-1]\n",
        "    precision, recall, f1, _ = precision_recall_fscore_support(\n",
        "        targets, preds, labels=labels, zero_division=0, average='weighted'\n",
        "    )\n",
        "    precision_list, recall_list, f1_list, _ = precision_recall_fscore_support(\n",
        "        targets, preds, labels=labels, zero_division=0\n",
        "    )\n",
        "    acc = accuracy_score(targets, preds)\n",
        "    decimals = 4\n",
        "    return {\n",
        "        'accuracy': acc,\n",
        "        'f1': np.around(f1, decimals),\n",
        "        'precision': np.around(precision, decimals),\n",
        "        'recall': np.round(recall, decimals),\n",
        "        'f1-list': np.around(f1_list, decimals).tolist(),\n",
        "        'precision-list': np.around(precision_list, decimals).tolist(),\n",
        "        'recall-list': np.round(recall_list, decimals).tolist(),\n",
        "    }"
      ],
      "id": "b846d85b-c0c8-4d6a-a273-efab206be652"
    },
    {
      "cell_type": "code",
      "execution_count": null,
      "metadata": {
        "id": "3c49eb20-a378-438d-abb3-707553bc5a93"
      },
      "outputs": [],
      "source": [
        "# Training Arguments\n",
        "\n",
        "training_args = TrainingArguments(\n",
        "    output_dir = 'models/pretrain_'+DATA+'_'+MODEL_NAME+'_'+INPUT_TYPE+'_'+str(SEED),\n",
        "    overwrite_output_dir = True,\n",
        "    per_device_train_batch_size = TRAIN_BATCH_SIZE,\n",
        "    per_device_eval_batch_size = EVAL_BATCH_SIZE,\n",
        "    evaluation_strategy = EVAL_STRATEGY,\n",
        "    logging_steps = LOGGING_STEPS,\n",
        "    save_strategy = SAVE_STRATEGY,\n",
        "    save_steps = LOGGING_STEPS,\n",
        "    save_total_limit = 2,\n",
        "    weight_decay = WEIGHT_DECAY,\n",
        "    num_train_epochs = NUM_TRAIN_EPOCHS,\n",
        "    load_best_model_at_end = LOAD_BEST_MODEL_AT_END,\n",
        "    dataloader_num_workers = NUM_WORKERS,\n",
        "    seed = SEED,\n",
        "    report_to = 'wandb'\n",
        ")"
      ],
      "id": "3c49eb20-a378-438d-abb3-707553bc5a93"
    },
    {
      "cell_type": "markdown",
      "metadata": {
        "id": "2dfde22e-6ec5-409d-9d5f-bafb21d8d0e9"
      },
      "source": [
        "# Train"
      ],
      "id": "2dfde22e-6ec5-409d-9d5f-bafb21d8d0e9"
    },
    {
      "cell_type": "code",
      "execution_count": null,
      "metadata": {
        "id": "85ddbda8-de03-4529-8dd0-b9501f85b0a6",
        "colab": {
          "base_uri": "https://localhost:8080/"
        },
        "outputId": "59da47ab-41ed-43a7-d9f0-2644d7f42be1"
      },
      "outputs": [
        {
          "output_type": "execute_result",
          "data": {
            "text/plain": [
              "868"
            ]
          },
          "metadata": {},
          "execution_count": 36
        }
      ],
      "source": [
        "# Free some space\n",
        "\n",
        "if 'trainer' in globals():\n",
        "    del trainer\n",
        "torch.cuda.empty_cache()\n",
        "gc.collect()"
      ],
      "id": "85ddbda8-de03-4529-8dd0-b9501f85b0a6"
    },
    {
      "cell_type": "code",
      "execution_count": null,
      "metadata": {
        "id": "7705257c-d00c-4257-9f91-f1bfd918776a"
      },
      "outputs": [],
      "source": [
        "# Setup trainer\n",
        "\n",
        "trainer = Trainer(\n",
        "    model = model,\n",
        "    args = training_args,\n",
        "    train_dataset = train_dataset,\n",
        "    eval_dataset = val_dataset,\n",
        "    data_collator = data_collator,\n",
        "    compute_metrics = compute_metrics,\n",
        "    callbacks = CALLBACKS\n",
        ")"
      ],
      "id": "7705257c-d00c-4257-9f91-f1bfd918776a"
    },
    {
      "cell_type": "code",
      "execution_count": null,
      "metadata": {
        "colab": {
          "base_uri": "https://localhost:8080/",
          "height": 1000
        },
        "id": "9a56cd33-ce58-478f-a576-78fdb54f6322",
        "outputId": "5b53ee6a-10af-4dc3-fb84-a66c0285445e"
      },
      "outputs": [
        {
          "metadata": {
            "tags": null
          },
          "name": "stderr",
          "output_type": "stream",
          "text": [
            "***** Running training *****\n",
            "  Num examples = 16856\n",
            "  Num Epochs = 10\n",
            "  Instantaneous batch size per device = 16\n",
            "  Total train batch size (w. parallel, distributed & accumulation) = 16\n",
            "  Gradient Accumulation steps = 1\n",
            "  Total optimization steps = 10540\n",
            "Automatic Weights & Biases logging enabled, to disable set os.environ[\"WANDB_DISABLED\"] = \"true\"\n",
            "\u001b[34m\u001b[1mwandb\u001b[0m: Currently logged in as: \u001b[33mside\u001b[0m (use `wandb login --relogin` to force relogin)\n"
          ]
        },
        {
          "data": {
            "text/html": [
              "\n",
              "                    Syncing run <strong><a href=\"https://wandb.ai/side/annotype_text_classification/runs/3smuyppf\" target=\"_blank\">models/pretrain_MPQA2.0_v211202_bert-base-uncased_TEXT_HEAD_0</a></strong> to <a href=\"https://wandb.ai/side/annotype_text_classification\" target=\"_blank\">Weights & Biases</a> (<a href=\"https://docs.wandb.com/integrations/jupyter.html\" target=\"_blank\">docs</a>).<br/>\n",
              "\n",
              "                "
            ],
            "text/plain": [
              "<IPython.core.display.HTML object>"
            ]
          },
          "metadata": {},
          "output_type": "display_data"
        },
        {
          "data": {
            "text/html": [
              "\n",
              "    <div>\n",
              "      \n",
              "      <progress value='3675' max='10540' style='width:300px; height:20px; vertical-align: middle;'></progress>\n",
              "      [ 3675/10540 46:38 < 1:27:11, 1.31 it/s, Epoch 3.49/10]\n",
              "    </div>\n",
              "    <table border=\"1\" class=\"dataframe\">\n",
              "  <thead>\n",
              "    <tr style=\"text-align: left;\">\n",
              "      <th>Step</th>\n",
              "      <th>Training Loss</th>\n",
              "      <th>Validation Loss</th>\n",
              "      <th>Accuracy</th>\n",
              "      <th>F1</th>\n",
              "      <th>Precision</th>\n",
              "      <th>Recall</th>\n",
              "      <th>F1-list</th>\n",
              "      <th>Precision-list</th>\n",
              "      <th>Recall-list</th>\n",
              "    </tr>\n",
              "  </thead>\n",
              "  <tbody>\n",
              "    <tr>\n",
              "      <td>500</td>\n",
              "      <td>0.901200</td>\n",
              "      <td>0.773779</td>\n",
              "      <td>0.731429</td>\n",
              "      <td>0.710500</td>\n",
              "      <td>0.713100</td>\n",
              "      <td>0.731400</td>\n",
              "      <td>[0.5, 0.5123, 0.8505, 0.6545, 0.6119, 0.5612, 0.0]</td>\n",
              "      <td>[0.6667, 0.5279, 0.7738, 0.8571, 0.7791, 0.6857, 0.0]</td>\n",
              "      <td>[0.4, 0.4976, 0.9441, 0.5294, 0.5038, 0.475, 0.0]</td>\n",
              "    </tr>\n",
              "    <tr>\n",
              "      <td>1000</td>\n",
              "      <td>0.727200</td>\n",
              "      <td>0.698678</td>\n",
              "      <td>0.750286</td>\n",
              "      <td>0.734000</td>\n",
              "      <td>0.741700</td>\n",
              "      <td>0.750300</td>\n",
              "      <td>[0.4935, 0.5339, 0.8553, 0.6949, 0.6459, 0.5986, 0.5349]</td>\n",
              "      <td>[0.5938, 0.6156, 0.7786, 0.82, 0.6694, 0.7418, 0.575]</td>\n",
              "      <td>[0.4222, 0.4713, 0.9487, 0.6029, 0.6241, 0.5017, 0.5]</td>\n",
              "    </tr>\n",
              "    <tr>\n",
              "      <td>1500</td>\n",
              "      <td>0.558000</td>\n",
              "      <td>0.729238</td>\n",
              "      <td>0.747143</td>\n",
              "      <td>0.741900</td>\n",
              "      <td>0.742500</td>\n",
              "      <td>0.747100</td>\n",
              "      <td>[0.5185, 0.5538, 0.8595, 0.697, 0.6121, 0.6189, 0.4727]</td>\n",
              "      <td>[0.5833, 0.5599, 0.8268, 0.7188, 0.5811, 0.6952, 0.4062]</td>\n",
              "      <td>[0.4667, 0.5478, 0.8949, 0.6765, 0.6466, 0.5576, 0.5652]</td>\n",
              "    </tr>\n",
              "    <tr>\n",
              "      <td>2000</td>\n",
              "      <td>0.558100</td>\n",
              "      <td>0.665744</td>\n",
              "      <td>0.755429</td>\n",
              "      <td>0.747300</td>\n",
              "      <td>0.752800</td>\n",
              "      <td>0.755400</td>\n",
              "      <td>[0.5316, 0.5925, 0.8614, 0.7302, 0.6795, 0.5984, 0.575]</td>\n",
              "      <td>[0.6176, 0.549, 0.817, 0.7931, 0.6984, 0.724, 0.6765]</td>\n",
              "      <td>[0.4667, 0.6435, 0.9109, 0.6765, 0.6617, 0.5099, 0.5]</td>\n",
              "    </tr>\n",
              "    <tr>\n",
              "      <td>2500</td>\n",
              "      <td>0.434000</td>\n",
              "      <td>0.737531</td>\n",
              "      <td>0.753143</td>\n",
              "      <td>0.744900</td>\n",
              "      <td>0.753000</td>\n",
              "      <td>0.753100</td>\n",
              "      <td>[0.5526, 0.6074, 0.8626, 0.748, 0.6241, 0.5853, 0.5679]</td>\n",
              "      <td>[0.6774, 0.5446, 0.8212, 0.8364, 0.6241, 0.7238, 0.6571]</td>\n",
              "      <td>[0.4667, 0.6866, 0.9083, 0.6765, 0.6241, 0.4913, 0.5]</td>\n",
              "    </tr>\n",
              "    <tr>\n",
              "      <td>3000</td>\n",
              "      <td>0.423700</td>\n",
              "      <td>0.731359</td>\n",
              "      <td>0.757429</td>\n",
              "      <td>0.752000</td>\n",
              "      <td>0.752100</td>\n",
              "      <td>0.757400</td>\n",
              "      <td>[0.5714, 0.577, 0.861, 0.7521, 0.6581, 0.6247, 0.5895]</td>\n",
              "      <td>[0.8, 0.59, 0.8266, 0.898, 0.7624, 0.6577, 0.5714]</td>\n",
              "      <td>[0.4444, 0.5646, 0.8985, 0.6471, 0.5789, 0.5949, 0.6087]</td>\n",
              "    </tr>\n",
              "    <tr>\n",
              "      <td>3500</td>\n",
              "      <td>0.322800</td>\n",
              "      <td>0.801486</td>\n",
              "      <td>0.757714</td>\n",
              "      <td>0.748700</td>\n",
              "      <td>0.748400</td>\n",
              "      <td>0.757700</td>\n",
              "      <td>[0.6279, 0.5429, 0.8626, 0.7667, 0.6387, 0.6264, 0.5361]</td>\n",
              "      <td>[0.6585, 0.5938, 0.8121, 0.8846, 0.7238, 0.691, 0.5098]</td>\n",
              "      <td>[0.6, 0.5, 0.9197, 0.6765, 0.5714, 0.5728, 0.5652]</td>\n",
              "    </tr>\n",
              "  </tbody>\n",
              "</table><p>"
            ],
            "text/plain": [
              "<IPython.core.display.HTML object>"
            ]
          },
          "metadata": {},
          "output_type": "display_data"
        },
        {
          "metadata": {
            "tags": null
          },
          "name": "stderr",
          "output_type": "stream",
          "text": [
            "***** Running Evaluation *****\n",
            "  Num examples = 3500\n",
            "  Batch size = 64\n",
            "Saving model checkpoint to models/pretrain_MPQA2.0_v211202_bert-base-uncased_TEXT_HEAD_0/checkpoint-500\n",
            "Configuration saved in models/pretrain_MPQA2.0_v211202_bert-base-uncased_TEXT_HEAD_0/checkpoint-500/config.json\n",
            "Model weights saved in models/pretrain_MPQA2.0_v211202_bert-base-uncased_TEXT_HEAD_0/checkpoint-500/pytorch_model.bin\n",
            "***** Running Evaluation *****\n",
            "  Num examples = 3500\n",
            "  Batch size = 64\n",
            "Saving model checkpoint to models/pretrain_MPQA2.0_v211202_bert-base-uncased_TEXT_HEAD_0/checkpoint-1000\n",
            "Configuration saved in models/pretrain_MPQA2.0_v211202_bert-base-uncased_TEXT_HEAD_0/checkpoint-1000/config.json\n",
            "Model weights saved in models/pretrain_MPQA2.0_v211202_bert-base-uncased_TEXT_HEAD_0/checkpoint-1000/pytorch_model.bin\n",
            "***** Running Evaluation *****\n",
            "  Num examples = 3500\n",
            "  Batch size = 64\n",
            "Saving model checkpoint to models/pretrain_MPQA2.0_v211202_bert-base-uncased_TEXT_HEAD_0/checkpoint-1500\n",
            "Configuration saved in models/pretrain_MPQA2.0_v211202_bert-base-uncased_TEXT_HEAD_0/checkpoint-1500/config.json\n",
            "Model weights saved in models/pretrain_MPQA2.0_v211202_bert-base-uncased_TEXT_HEAD_0/checkpoint-1500/pytorch_model.bin\n",
            "Deleting older checkpoint [models/pretrain_MPQA2.0_v211202_bert-base-uncased_TEXT_HEAD_0/checkpoint-500] due to args.save_total_limit\n",
            "***** Running Evaluation *****\n",
            "  Num examples = 3500\n",
            "  Batch size = 64\n",
            "Saving model checkpoint to models/pretrain_MPQA2.0_v211202_bert-base-uncased_TEXT_HEAD_0/checkpoint-2000\n",
            "Configuration saved in models/pretrain_MPQA2.0_v211202_bert-base-uncased_TEXT_HEAD_0/checkpoint-2000/config.json\n",
            "Model weights saved in models/pretrain_MPQA2.0_v211202_bert-base-uncased_TEXT_HEAD_0/checkpoint-2000/pytorch_model.bin\n",
            "Deleting older checkpoint [models/pretrain_MPQA2.0_v211202_bert-base-uncased_TEXT_HEAD_0/checkpoint-1000] due to args.save_total_limit\n",
            "***** Running Evaluation *****\n",
            "  Num examples = 3500\n",
            "  Batch size = 64\n",
            "Saving model checkpoint to models/pretrain_MPQA2.0_v211202_bert-base-uncased_TEXT_HEAD_0/checkpoint-2500\n",
            "Configuration saved in models/pretrain_MPQA2.0_v211202_bert-base-uncased_TEXT_HEAD_0/checkpoint-2500/config.json\n",
            "Model weights saved in models/pretrain_MPQA2.0_v211202_bert-base-uncased_TEXT_HEAD_0/checkpoint-2500/pytorch_model.bin\n",
            "Deleting older checkpoint [models/pretrain_MPQA2.0_v211202_bert-base-uncased_TEXT_HEAD_0/checkpoint-1500] due to args.save_total_limit\n",
            "***** Running Evaluation *****\n",
            "  Num examples = 3500\n",
            "  Batch size = 64\n",
            "Saving model checkpoint to models/pretrain_MPQA2.0_v211202_bert-base-uncased_TEXT_HEAD_0/checkpoint-3000\n",
            "Configuration saved in models/pretrain_MPQA2.0_v211202_bert-base-uncased_TEXT_HEAD_0/checkpoint-3000/config.json\n",
            "Model weights saved in models/pretrain_MPQA2.0_v211202_bert-base-uncased_TEXT_HEAD_0/checkpoint-3000/pytorch_model.bin\n",
            "Deleting older checkpoint [models/pretrain_MPQA2.0_v211202_bert-base-uncased_TEXT_HEAD_0/checkpoint-2500] due to args.save_total_limit\n",
            "***** Running Evaluation *****\n",
            "  Num examples = 3500\n",
            "  Batch size = 64\n",
            "Saving model checkpoint to models/pretrain_MPQA2.0_v211202_bert-base-uncased_TEXT_HEAD_0/checkpoint-3500\n",
            "Configuration saved in models/pretrain_MPQA2.0_v211202_bert-base-uncased_TEXT_HEAD_0/checkpoint-3500/config.json\n",
            "Model weights saved in models/pretrain_MPQA2.0_v211202_bert-base-uncased_TEXT_HEAD_0/checkpoint-3500/pytorch_model.bin\n",
            "Deleting older checkpoint [models/pretrain_MPQA2.0_v211202_bert-base-uncased_TEXT_HEAD_0/checkpoint-3000] due to args.save_total_limit\n"
          ]
        },
        {
          "output_type": "display_data",
          "data": {
            "text/html": [
              "\n",
              "    <div>\n",
              "      \n",
              "      <progress value='4000' max='10540' style='width:300px; height:20px; vertical-align: middle;'></progress>\n",
              "      [ 4000/10540 51:07 < 1:23:38, 1.30 it/s, Epoch 3/10]\n",
              "    </div>\n",
              "    <table border=\"1\" class=\"dataframe\">\n",
              "  <thead>\n",
              "    <tr style=\"text-align: left;\">\n",
              "      <th>Step</th>\n",
              "      <th>Training Loss</th>\n",
              "      <th>Validation Loss</th>\n",
              "      <th>Accuracy</th>\n",
              "      <th>F1</th>\n",
              "      <th>Precision</th>\n",
              "      <th>Recall</th>\n",
              "      <th>F1-list</th>\n",
              "      <th>Precision-list</th>\n",
              "      <th>Recall-list</th>\n",
              "    </tr>\n",
              "  </thead>\n",
              "  <tbody>\n",
              "    <tr>\n",
              "      <td>500</td>\n",
              "      <td>0.901200</td>\n",
              "      <td>0.773779</td>\n",
              "      <td>0.731429</td>\n",
              "      <td>0.710500</td>\n",
              "      <td>0.713100</td>\n",
              "      <td>0.731400</td>\n",
              "      <td>[0.5, 0.5123, 0.8505, 0.6545, 0.6119, 0.5612, 0.0]</td>\n",
              "      <td>[0.6667, 0.5279, 0.7738, 0.8571, 0.7791, 0.6857, 0.0]</td>\n",
              "      <td>[0.4, 0.4976, 0.9441, 0.5294, 0.5038, 0.475, 0.0]</td>\n",
              "    </tr>\n",
              "    <tr>\n",
              "      <td>1000</td>\n",
              "      <td>0.727200</td>\n",
              "      <td>0.698678</td>\n",
              "      <td>0.750286</td>\n",
              "      <td>0.734000</td>\n",
              "      <td>0.741700</td>\n",
              "      <td>0.750300</td>\n",
              "      <td>[0.4935, 0.5339, 0.8553, 0.6949, 0.6459, 0.5986, 0.5349]</td>\n",
              "      <td>[0.5938, 0.6156, 0.7786, 0.82, 0.6694, 0.7418, 0.575]</td>\n",
              "      <td>[0.4222, 0.4713, 0.9487, 0.6029, 0.6241, 0.5017, 0.5]</td>\n",
              "    </tr>\n",
              "    <tr>\n",
              "      <td>1500</td>\n",
              "      <td>0.558000</td>\n",
              "      <td>0.729238</td>\n",
              "      <td>0.747143</td>\n",
              "      <td>0.741900</td>\n",
              "      <td>0.742500</td>\n",
              "      <td>0.747100</td>\n",
              "      <td>[0.5185, 0.5538, 0.8595, 0.697, 0.6121, 0.6189, 0.4727]</td>\n",
              "      <td>[0.5833, 0.5599, 0.8268, 0.7188, 0.5811, 0.6952, 0.4062]</td>\n",
              "      <td>[0.4667, 0.5478, 0.8949, 0.6765, 0.6466, 0.5576, 0.5652]</td>\n",
              "    </tr>\n",
              "    <tr>\n",
              "      <td>2000</td>\n",
              "      <td>0.558100</td>\n",
              "      <td>0.665744</td>\n",
              "      <td>0.755429</td>\n",
              "      <td>0.747300</td>\n",
              "      <td>0.752800</td>\n",
              "      <td>0.755400</td>\n",
              "      <td>[0.5316, 0.5925, 0.8614, 0.7302, 0.6795, 0.5984, 0.575]</td>\n",
              "      <td>[0.6176, 0.549, 0.817, 0.7931, 0.6984, 0.724, 0.6765]</td>\n",
              "      <td>[0.4667, 0.6435, 0.9109, 0.6765, 0.6617, 0.5099, 0.5]</td>\n",
              "    </tr>\n",
              "    <tr>\n",
              "      <td>2500</td>\n",
              "      <td>0.434000</td>\n",
              "      <td>0.737531</td>\n",
              "      <td>0.753143</td>\n",
              "      <td>0.744900</td>\n",
              "      <td>0.753000</td>\n",
              "      <td>0.753100</td>\n",
              "      <td>[0.5526, 0.6074, 0.8626, 0.748, 0.6241, 0.5853, 0.5679]</td>\n",
              "      <td>[0.6774, 0.5446, 0.8212, 0.8364, 0.6241, 0.7238, 0.6571]</td>\n",
              "      <td>[0.4667, 0.6866, 0.9083, 0.6765, 0.6241, 0.4913, 0.5]</td>\n",
              "    </tr>\n",
              "    <tr>\n",
              "      <td>3000</td>\n",
              "      <td>0.423700</td>\n",
              "      <td>0.731359</td>\n",
              "      <td>0.757429</td>\n",
              "      <td>0.752000</td>\n",
              "      <td>0.752100</td>\n",
              "      <td>0.757400</td>\n",
              "      <td>[0.5714, 0.577, 0.861, 0.7521, 0.6581, 0.6247, 0.5895]</td>\n",
              "      <td>[0.8, 0.59, 0.8266, 0.898, 0.7624, 0.6577, 0.5714]</td>\n",
              "      <td>[0.4444, 0.5646, 0.8985, 0.6471, 0.5789, 0.5949, 0.6087]</td>\n",
              "    </tr>\n",
              "    <tr>\n",
              "      <td>3500</td>\n",
              "      <td>0.322800</td>\n",
              "      <td>0.801486</td>\n",
              "      <td>0.757714</td>\n",
              "      <td>0.748700</td>\n",
              "      <td>0.748400</td>\n",
              "      <td>0.757700</td>\n",
              "      <td>[0.6279, 0.5429, 0.8626, 0.7667, 0.6387, 0.6264, 0.5361]</td>\n",
              "      <td>[0.6585, 0.5938, 0.8121, 0.8846, 0.7238, 0.691, 0.5098]</td>\n",
              "      <td>[0.6, 0.5, 0.9197, 0.6765, 0.5714, 0.5728, 0.5652]</td>\n",
              "    </tr>\n",
              "    <tr>\n",
              "      <td>4000</td>\n",
              "      <td>0.311400</td>\n",
              "      <td>0.815700</td>\n",
              "      <td>0.756000</td>\n",
              "      <td>0.741300</td>\n",
              "      <td>0.748500</td>\n",
              "      <td>0.756000</td>\n",
              "      <td>[0.5333, 0.5722, 0.86, 0.7143, 0.6311, 0.5953, 0.5854]</td>\n",
              "      <td>[0.6667, 0.6137, 0.7871, 0.9091, 0.6937, 0.7317, 0.6667]</td>\n",
              "      <td>[0.4444, 0.5359, 0.9477, 0.5882, 0.5789, 0.5017, 0.5217]</td>\n",
              "    </tr>\n",
              "  </tbody>\n",
              "</table><p>"
            ],
            "text/plain": [
              "<IPython.core.display.HTML object>"
            ]
          },
          "metadata": {}
        },
        {
          "output_type": "stream",
          "name": "stderr",
          "text": [
            "***** Running Evaluation *****\n",
            "  Num examples = 3500\n",
            "  Batch size = 64\n",
            "Saving model checkpoint to models/pretrain_MPQA2.0_v211202_bert-base-uncased_TEXT_HEAD_0/checkpoint-4000\n",
            "Configuration saved in models/pretrain_MPQA2.0_v211202_bert-base-uncased_TEXT_HEAD_0/checkpoint-4000/config.json\n",
            "Model weights saved in models/pretrain_MPQA2.0_v211202_bert-base-uncased_TEXT_HEAD_0/checkpoint-4000/pytorch_model.bin\n",
            "Deleting older checkpoint [models/pretrain_MPQA2.0_v211202_bert-base-uncased_TEXT_HEAD_0/checkpoint-3500] due to args.save_total_limit\n",
            "\n",
            "\n",
            "Training completed. Do not forget to share your model on huggingface.co/models =)\n",
            "\n",
            "\n",
            "Loading best model from models/pretrain_MPQA2.0_v211202_bert-base-uncased_TEXT_HEAD_0/checkpoint-2000 (score: 0.665744423866272).\n"
          ]
        },
        {
          "output_type": "execute_result",
          "data": {
            "text/plain": [
              "TrainOutput(global_step=4000, training_loss=0.5295182456970214, metrics={'train_runtime': 3076.6608, 'train_samples_per_second': 54.787, 'train_steps_per_second': 3.426, 'total_flos': 2723395678826400.0, 'train_loss': 0.5295182456970214, 'epoch': 3.8})"
            ]
          },
          "metadata": {},
          "execution_count": 38
        }
      ],
      "source": [
        "trainer.train()"
      ],
      "id": "9a56cd33-ce58-478f-a576-78fdb54f6322"
    },
    {
      "cell_type": "code",
      "execution_count": null,
      "metadata": {
        "id": "8bfa7c92-b9bb-48c4-b963-0ffa1658ec69",
        "colab": {
          "base_uri": "https://localhost:8080/",
          "height": 89
        },
        "outputId": "d9dc163d-8001-4382-f03c-48ec3f84c1ab"
      },
      "outputs": [
        {
          "output_type": "stream",
          "name": "stderr",
          "text": [
            "***** Running Prediction *****\n",
            "  Num examples = 3500\n",
            "  Batch size = 64\n"
          ]
        },
        {
          "output_type": "display_data",
          "data": {
            "text/html": [
              "\n",
              "    <div>\n",
              "      \n",
              "      <progress value='55' max='55' style='width:300px; height:20px; vertical-align: middle;'></progress>\n",
              "      [55/55 00:41]\n",
              "    </div>\n",
              "    "
            ],
            "text/plain": [
              "<IPython.core.display.HTML object>"
            ]
          },
          "metadata": {}
        }
      ],
      "source": [
        "pred = trainer.predict(val_dataset)"
      ],
      "id": "8bfa7c92-b9bb-48c4-b963-0ffa1658ec69"
    },
    {
      "cell_type": "code",
      "source": [
        "# Show confusion matrix\n",
        "\n",
        "targets = pred.label_ids\n",
        "preds = pred.predictions.argmax(-1)\n",
        "\n",
        "def show_confusion_matrix(confusion_matrix):\n",
        "    hmap = sns.heatmap(confusion_matrix, annot=True, fmt=\"d\", cmap='Blues')\n",
        "    hmap.yaxis.set_ticklabels(hmap.yaxis.get_ticklabels(), rotation=0, ha='right')\n",
        "    hmap.xaxis.set_ticklabels(hmap.xaxis.get_ticklabels(), rotation=30, ha='right')\n",
        "    plt.ylabel('True annotation type')\n",
        "    plt.xlabel('Predicted annotation type');\n",
        "\n",
        "cm = confusion_matrix(targets, preds)\n",
        "df_cm = pd.DataFrame(cm, index=classes, columns=classes)\n",
        "show_confusion_matrix(df_cm)"
      ],
      "metadata": {
        "colab": {
          "base_uri": "https://localhost:8080/",
          "height": 336
        },
        "id": "6FlGAOYPU-VE",
        "outputId": "655193a8-3eb7-4284-b1bb-df5ea7069737"
      },
      "id": "6FlGAOYPU-VE",
      "execution_count": null,
      "outputs": [
        {
          "output_type": "display_data",
          "data": {
            "image/png": "[encoded data removed]",
            "text/plain": [
              "<Figure size 432x288 with 2 Axes>"
            ]
          },
          "metadata": {
            "image/png": {
              "width": 479,
              "height": 319
            },
            "needs_background": "light"
          }
        }
      ]
    },
    {
      "cell_type": "code",
      "execution_count": null,
      "metadata": {
        "id": "89c3fcac-8214-4033-8fce-1b11f475c149",
        "colab": {
          "base_uri": "https://localhost:8080/",
          "height": 628,
          "referenced_widgets": [
            "a4944e9c411b4bfab56d2bbdce28c87d",
            "92485a5abf5445f5ae026e8d50fd26bd",
            "84c4b093b77c4e4384593e45479bf995",
            "8f27f31122df45d28df99b8f8ae90700",
            "29ef3faa9e354325bfd7cf12013f4c3a",
            "8968abecbb364fd9a7525536ec930454",
            "28cf4c389b074da99b2ec9a6438595ed",
            "cd6d2adc77c742a3acc22919abb7ed57"
          ]
        },
        "outputId": "b59e2ff8-aad3-4254-8aa2-c2c7cc7e5b58"
      },
      "outputs": [
        {
          "data": {
            "text/html": [
              "<br/>Waiting for W&B process to finish, PID 326... <strong style=\"color:green\">(success).</strong>"
            ],
            "text/plain": [
              "<IPython.core.display.HTML object>"
            ]
          },
          "metadata": {},
          "output_type": "display_data"
        },
        {
          "data": {
            "application/vnd.jupyter.widget-view+json": {
              "model_id": "a4944e9c411b4bfab56d2bbdce28c87d",
              "version_major": 2,
              "version_minor": 0
            },
            "text/plain": [
              "VBox(children=(Label(value=' 0.00MB of 0.00MB uploaded (0.00MB deduped)\\r'), FloatProgress(value=1.0, max=1.0)…"
            ]
          },
          "metadata": {},
          "output_type": "display_data"
        },
        {
          "data": {
            "text/html": [
              "<style>\n",
              "    table.wandb td:nth-child(1) { padding: 0 10px; text-align: right }\n",
              "    .wandb-row { display: flex; flex-direction: row; flex-wrap: wrap; width: 100% }\n",
              "    .wandb-col { display: flex; flex-direction: column; flex-basis: 100%; flex: 1; padding: 10px; }\n",
              "    </style>\n",
              "<div class=\"wandb-row\"><div class=\"wandb-col\">\n",
              "<h3>Run history:</h3><br/><table class=\"wandb\"><tr><td>eval/accuracy</td><td>▁▆▅▇▇███</td></tr><tr><td>eval/f1</td><td>▁▅▆▇▇█▇▆</td></tr><tr><td>eval/loss</td><td>▆▃▄▁▄▄▇█</td></tr><tr><td>eval/precision</td><td>▁▆▆███▇▇</td></tr><tr><td>eval/recall</td><td>▁▆▅▇▇███</td></tr><tr><td>eval/runtime</td><td>▁▂▄█▆▅▃▄</td></tr><tr><td>eval/samples_per_second</td><td>█▇▅▁▃▄▆▅</td></tr><tr><td>eval/steps_per_second</td><td>█▆▆▁▃▃▆▆</td></tr><tr><td>train/epoch</td><td>▁▁▂▂▃▃▄▄▅▅▆▆▇▇███</td></tr><tr><td>train/global_step</td><td>▁▁▂▂▃▃▄▄▅▅▆▆▇▇███</td></tr><tr><td>train/learning_rate</td><td>█▇▆▅▄▃▂▁</td></tr><tr><td>train/loss</td><td>█▆▄▄▂▂▁▁</td></tr><tr><td>train/total_flos</td><td>▁</td></tr><tr><td>train/train_loss</td><td>▁</td></tr><tr><td>train/train_runtime</td><td>▁</td></tr><tr><td>train/train_samples_per_second</td><td>▁</td></tr><tr><td>train/train_steps_per_second</td><td>▁</td></tr></table><br/></div><div class=\"wandb-col\">\n",
              "<h3>Run summary:</h3><br/><table class=\"wandb\"><tr><td>eval/accuracy</td><td>0.756</td></tr><tr><td>eval/f1</td><td>0.7413</td></tr><tr><td>eval/loss</td><td>0.8157</td></tr><tr><td>eval/precision</td><td>0.7485</td></tr><tr><td>eval/recall</td><td>0.756</td></tr><tr><td>eval/runtime</td><td>42.0267</td></tr><tr><td>eval/samples_per_second</td><td>83.28</td></tr><tr><td>eval/steps_per_second</td><td>1.309</td></tr><tr><td>train/epoch</td><td>3.8</td></tr><tr><td>train/global_step</td><td>4000</td></tr><tr><td>train/learning_rate</td><td>3e-05</td></tr><tr><td>train/loss</td><td>0.3114</td></tr><tr><td>train/total_flos</td><td>2723395678826400.0</td></tr><tr><td>train/train_loss</td><td>0.52952</td></tr><tr><td>train/train_runtime</td><td>3076.6608</td></tr><tr><td>train/train_samples_per_second</td><td>54.787</td></tr><tr><td>train/train_steps_per_second</td><td>3.426</td></tr></table>\n",
              "</div></div>\n",
              "Synced 5 W&B file(s), 0 media file(s), 0 artifact file(s) and 0 other file(s)\n",
              "<br/>Synced <strong style=\"color:#cdcd00\">models/pretrain_MPQA2.0_v211202_bert-base-uncased_TEXT_HEAD_0</strong>: <a href=\"https://wandb.ai/side/annotype_text_classification/runs/3smuyppf\" target=\"_blank\">https://wandb.ai/side/annotype_text_classification/runs/3smuyppf</a><br/>\n",
              "Find logs at: <code>./wandb/run-20211225_102129-3smuyppf/logs</code><br/>\n"
            ],
            "text/plain": [
              "<IPython.core.display.HTML object>"
            ]
          },
          "metadata": {},
          "output_type": "display_data"
        }
      ],
      "source": [
        "wandb.finish()"
      ],
      "id": "89c3fcac-8214-4033-8fce-1b11f475c149"
    }
  ],
  "metadata": {
    "accelerator": "GPU",
    "colab": {
      "collapsed_sections": [],
      "name": "S_split_by_doc.ipynb",
      "provenance": []
    },
    "kernelspec": {
      "display_name": "Python 3",
      "language": "python",
      "name": "python3"
    },
    "language_info": {
      "codemirror_mode": {
        "name": "ipython",
        "version": 3
      },
      "file_extension": ".py",
      "mimetype": "text/x-python",
      "name": "python",
      "nbconvert_exporter": "python",
      "pygments_lexer": "ipython3",
      "version": "3.8.7"
    },
    "widgets": {
      "application/vnd.jupyter.widget-state+json": {
        "49ed1a2eff5a4c59a34a9b77355580dd": {
          "model_module": "@jupyter-widgets/controls",
          "model_name": "HBoxModel",
          "model_module_version": "1.5.0",
          "state": {
            "_view_name": "HBoxView",
            "_dom_classes": [],
            "_model_name": "HBoxModel",
            "_view_module": "@jupyter-widgets/controls",
            "_model_module_version": "1.5.0",
            "_view_count": null,
            "_view_module_version": "1.5.0",
            "box_style": "",
            "layout": "IPY_MODEL_df956343bab045a1bdd4938c06491cef",
            "_model_module": "@jupyter-widgets/controls",
            "children": [
              "IPY_MODEL_9198b71209f24999ad3100475b7cbd0f",
              "IPY_MODEL_4ac0eeb8ce364ff381029f805284c62d",
              "IPY_MODEL_0bd3a01a178f43cd9236d193ee6a6658"
            ]
          }
        },
        "df956343bab045a1bdd4938c06491cef": {
          "model_module": "@jupyter-widgets/base",
          "model_name": "LayoutModel",
          "model_module_version": "1.2.0",
          "state": {
            "_view_name": "LayoutView",
            "grid_template_rows": null,
            "right": null,
            "justify_content": null,
            "_view_module": "@jupyter-widgets/base",
            "overflow": null,
            "_model_module_version": "1.2.0",
            "_view_count": null,
            "flex_flow": null,
            "width": null,
            "min_width": null,
            "border": null,
            "align_items": null,
            "bottom": null,
            "_model_module": "@jupyter-widgets/base",
            "top": null,
            "grid_column": null,
            "overflow_y": null,
            "overflow_x": null,
            "grid_auto_flow": null,
            "grid_area": null,
            "grid_template_columns": null,
            "flex": null,
            "_model_name": "LayoutModel",
            "justify_items": null,
            "grid_row": null,
            "max_height": null,
            "align_content": null,
            "visibility": null,
            "align_self": null,
            "height": null,
            "min_height": null,
            "padding": null,
            "grid_auto_rows": null,
            "grid_gap": null,
            "max_width": null,
            "order": null,
            "_view_module_version": "1.2.0",
            "grid_template_areas": null,
            "object_position": null,
            "object_fit": null,
            "grid_auto_columns": null,
            "margin": null,
            "display": null,
            "left": null
          }
        },
        "9198b71209f24999ad3100475b7cbd0f": {
          "model_module": "@jupyter-widgets/controls",
          "model_name": "HTMLModel",
          "model_module_version": "1.5.0",
          "state": {
            "_view_name": "HTMLView",
            "style": "IPY_MODEL_1528fd588cd7427099ff122c35ef4249",
            "_dom_classes": [],
            "description": "",
            "_model_name": "HTMLModel",
            "placeholder": "​",
            "_view_module": "@jupyter-widgets/controls",
            "_model_module_version": "1.5.0",
            "value": "Downloading: 100%",
            "_view_count": null,
            "_view_module_version": "1.5.0",
            "description_tooltip": null,
            "_model_module": "@jupyter-widgets/controls",
            "layout": "IPY_MODEL_13e8e5be0354479fa2d9f64788410a76"
          }
        },
        "4ac0eeb8ce364ff381029f805284c62d": {
          "model_module": "@jupyter-widgets/controls",
          "model_name": "FloatProgressModel",
          "model_module_version": "1.5.0",
          "state": {
            "_view_name": "ProgressView",
            "style": "IPY_MODEL_7e5035fb142e470d85cf3e15e305cbd3",
            "_dom_classes": [],
            "description": "",
            "_model_name": "FloatProgressModel",
            "bar_style": "success",
            "max": 28,
            "_view_module": "@jupyter-widgets/controls",
            "_model_module_version": "1.5.0",
            "value": 28,
            "_view_count": null,
            "_view_module_version": "1.5.0",
            "orientation": "horizontal",
            "min": 0,
            "description_tooltip": null,
            "_model_module": "@jupyter-widgets/controls",
            "layout": "IPY_MODEL_180652c2d4ef4c6a8db462a88578f2e9"
          }
        },
        "0bd3a01a178f43cd9236d193ee6a6658": {
          "model_module": "@jupyter-widgets/controls",
          "model_name": "HTMLModel",
          "model_module_version": "1.5.0",
          "state": {
            "_view_name": "HTMLView",
            "style": "IPY_MODEL_067863ee39d34085b3d6ae4567f67fa9",
            "_dom_classes": [],
            "description": "",
            "_model_name": "HTMLModel",
            "placeholder": "​",
            "_view_module": "@jupyter-widgets/controls",
            "_model_module_version": "1.5.0",
            "value": " 28.0/28.0 [00:00&lt;00:00, 653B/s]",
            "_view_count": null,
            "_view_module_version": "1.5.0",
            "description_tooltip": null,
            "_model_module": "@jupyter-widgets/controls",
            "layout": "IPY_MODEL_e4a2f7ce3dc34428b9e689e0a1504241"
          }
        },
        "1528fd588cd7427099ff122c35ef4249": {
          "model_module": "@jupyter-widgets/controls",
          "model_name": "DescriptionStyleModel",
          "model_module_version": "1.5.0",
          "state": {
            "_view_name": "StyleView",
            "_model_name": "DescriptionStyleModel",
            "description_width": "",
            "_view_module": "@jupyter-widgets/base",
            "_model_module_version": "1.5.0",
            "_view_count": null,
            "_view_module_version": "1.2.0",
            "_model_module": "@jupyter-widgets/controls"
          }
        },
        "13e8e5be0354479fa2d9f64788410a76": {
          "model_module": "@jupyter-widgets/base",
          "model_name": "LayoutModel",
          "model_module_version": "1.2.0",
          "state": {
            "_view_name": "LayoutView",
            "grid_template_rows": null,
            "right": null,
            "justify_content": null,
            "_view_module": "@jupyter-widgets/base",
            "overflow": null,
            "_model_module_version": "1.2.0",
            "_view_count": null,
            "flex_flow": null,
            "width": null,
            "min_width": null,
            "border": null,
            "align_items": null,
            "bottom": null,
            "_model_module": "@jupyter-widgets/base",
            "top": null,
            "grid_column": null,
            "overflow_y": null,
            "overflow_x": null,
            "grid_auto_flow": null,
            "grid_area": null,
            "grid_template_columns": null,
            "flex": null,
            "_model_name": "LayoutModel",
            "justify_items": null,
            "grid_row": null,
            "max_height": null,
            "align_content": null,
            "visibility": null,
            "align_self": null,
            "height": null,
            "min_height": null,
            "padding": null,
            "grid_auto_rows": null,
            "grid_gap": null,
            "max_width": null,
            "order": null,
            "_view_module_version": "1.2.0",
            "grid_template_areas": null,
            "object_position": null,
            "object_fit": null,
            "grid_auto_columns": null,
            "margin": null,
            "display": null,
            "left": null
          }
        },
        "7e5035fb142e470d85cf3e15e305cbd3": {
          "model_module": "@jupyter-widgets/controls",
          "model_name": "ProgressStyleModel",
          "model_module_version": "1.5.0",
          "state": {
            "_view_name": "StyleView",
            "_model_name": "ProgressStyleModel",
            "description_width": "",
            "_view_module": "@jupyter-widgets/base",
            "_model_module_version": "1.5.0",
            "_view_count": null,
            "_view_module_version": "1.2.0",
            "bar_color": null,
            "_model_module": "@jupyter-widgets/controls"
          }
        },
        "180652c2d4ef4c6a8db462a88578f2e9": {
          "model_module": "@jupyter-widgets/base",
          "model_name": "LayoutModel",
          "model_module_version": "1.2.0",
          "state": {
            "_view_name": "LayoutView",
            "grid_template_rows": null,
            "right": null,
            "justify_content": null,
            "_view_module": "@jupyter-widgets/base",
            "overflow": null,
            "_model_module_version": "1.2.0",
            "_view_count": null,
            "flex_flow": null,
            "width": null,
            "min_width": null,
            "border": null,
            "align_items": null,
            "bottom": null,
            "_model_module": "@jupyter-widgets/base",
            "top": null,
            "grid_column": null,
            "overflow_y": null,
            "overflow_x": null,
            "grid_auto_flow": null,
            "grid_area": null,
            "grid_template_columns": null,
            "flex": null,
            "_model_name": "LayoutModel",
            "justify_items": null,
            "grid_row": null,
            "max_height": null,
            "align_content": null,
            "visibility": null,
            "align_self": null,
            "height": null,
            "min_height": null,
            "padding": null,
            "grid_auto_rows": null,
            "grid_gap": null,
            "max_width": null,
            "order": null,
            "_view_module_version": "1.2.0",
            "grid_template_areas": null,
            "object_position": null,
            "object_fit": null,
            "grid_auto_columns": null,
            "margin": null,
            "display": null,
            "left": null
          }
        },
        "067863ee39d34085b3d6ae4567f67fa9": {
          "model_module": "@jupyter-widgets/controls",
          "model_name": "DescriptionStyleModel",
          "model_module_version": "1.5.0",
          "state": {
            "_view_name": "StyleView",
            "_model_name": "DescriptionStyleModel",
            "description_width": "",
            "_view_module": "@jupyter-widgets/base",
            "_model_module_version": "1.5.0",
            "_view_count": null,
            "_view_module_version": "1.2.0",
            "_model_module": "@jupyter-widgets/controls"
          }
        },
        "e4a2f7ce3dc34428b9e689e0a1504241": {
          "model_module": "@jupyter-widgets/base",
          "model_name": "LayoutModel",
          "model_module_version": "1.2.0",
          "state": {
            "_view_name": "LayoutView",
            "grid_template_rows": null,
            "right": null,
            "justify_content": null,
            "_view_module": "@jupyter-widgets/base",
            "overflow": null,
            "_model_module_version": "1.2.0",
            "_view_count": null,
            "flex_flow": null,
            "width": null,
            "min_width": null,
            "border": null,
            "align_items": null,
            "bottom": null,
            "_model_module": "@jupyter-widgets/base",
            "top": null,
            "grid_column": null,
            "overflow_y": null,
            "overflow_x": null,
            "grid_auto_flow": null,
            "grid_area": null,
            "grid_template_columns": null,
            "flex": null,
            "_model_name": "LayoutModel",
            "justify_items": null,
            "grid_row": null,
            "max_height": null,
            "align_content": null,
            "visibility": null,
            "align_self": null,
            "height": null,
            "min_height": null,
            "padding": null,
            "grid_auto_rows": null,
            "grid_gap": null,
            "max_width": null,
            "order": null,
            "_view_module_version": "1.2.0",
            "grid_template_areas": null,
            "object_position": null,
            "object_fit": null,
            "grid_auto_columns": null,
            "margin": null,
            "display": null,
            "left": null
          }
        },
        "722d4f01a8724c47987cdac688066938": {
          "model_module": "@jupyter-widgets/controls",
          "model_name": "HBoxModel",
          "model_module_version": "1.5.0",
          "state": {
            "_view_name": "HBoxView",
            "_dom_classes": [],
            "_model_name": "HBoxModel",
            "_view_module": "@jupyter-widgets/controls",
            "_model_module_version": "1.5.0",
            "_view_count": null,
            "_view_module_version": "1.5.0",
            "box_style": "",
            "layout": "IPY_MODEL_0eb753fd03624e768e0c6f6e8b65b9fa",
            "_model_module": "@jupyter-widgets/controls",
            "children": [
              "IPY_MODEL_b0231578da4047938f10934236bb2cb9",
              "IPY_MODEL_7e9818b64cb24972bf5a215c99c5c868",
              "IPY_MODEL_41f5639a0a0c4dcab52787b512cc290c"
            ]
          }
        },
        "0eb753fd03624e768e0c6f6e8b65b9fa": {
          "model_module": "@jupyter-widgets/base",
          "model_name": "LayoutModel",
          "model_module_version": "1.2.0",
          "state": {
            "_view_name": "LayoutView",
            "grid_template_rows": null,
            "right": null,
            "justify_content": null,
            "_view_module": "@jupyter-widgets/base",
            "overflow": null,
            "_model_module_version": "1.2.0",
            "_view_count": null,
            "flex_flow": null,
            "width": null,
            "min_width": null,
            "border": null,
            "align_items": null,
            "bottom": null,
            "_model_module": "@jupyter-widgets/base",
            "top": null,
            "grid_column": null,
            "overflow_y": null,
            "overflow_x": null,
            "grid_auto_flow": null,
            "grid_area": null,
            "grid_template_columns": null,
            "flex": null,
            "_model_name": "LayoutModel",
            "justify_items": null,
            "grid_row": null,
            "max_height": null,
            "align_content": null,
            "visibility": null,
            "align_self": null,
            "height": null,
            "min_height": null,
            "padding": null,
            "grid_auto_rows": null,
            "grid_gap": null,
            "max_width": null,
            "order": null,
            "_view_module_version": "1.2.0",
            "grid_template_areas": null,
            "object_position": null,
            "object_fit": null,
            "grid_auto_columns": null,
            "margin": null,
            "display": null,
            "left": null
          }
        },
        "b0231578da4047938f10934236bb2cb9": {
          "model_module": "@jupyter-widgets/controls",
          "model_name": "HTMLModel",
          "model_module_version": "1.5.0",
          "state": {
            "_view_name": "HTMLView",
            "style": "IPY_MODEL_4e63abe07f384b92aae18322e12faa05",
            "_dom_classes": [],
            "description": "",
            "_model_name": "HTMLModel",
            "placeholder": "​",
            "_view_module": "@jupyter-widgets/controls",
            "_model_module_version": "1.5.0",
            "value": "Downloading: 100%",
            "_view_count": null,
            "_view_module_version": "1.5.0",
            "description_tooltip": null,
            "_model_module": "@jupyter-widgets/controls",
            "layout": "IPY_MODEL_071bf46dae6b4f2381ab704b61bba3d9"
          }
        },
        "7e9818b64cb24972bf5a215c99c5c868": {
          "model_module": "@jupyter-widgets/controls",
          "model_name": "FloatProgressModel",
          "model_module_version": "1.5.0",
          "state": {
            "_view_name": "ProgressView",
            "style": "IPY_MODEL_cc9e149fa9b24257bc746969ec4dcb1d",
            "_dom_classes": [],
            "description": "",
            "_model_name": "FloatProgressModel",
            "bar_style": "success",
            "max": 570,
            "_view_module": "@jupyter-widgets/controls",
            "_model_module_version": "1.5.0",
            "value": 570,
            "_view_count": null,
            "_view_module_version": "1.5.0",
            "orientation": "horizontal",
            "min": 0,
            "description_tooltip": null,
            "_model_module": "@jupyter-widgets/controls",
            "layout": "IPY_MODEL_46c6fb9f90f040e087d942d1d43fd4ee"
          }
        },
        "41f5639a0a0c4dcab52787b512cc290c": {
          "model_module": "@jupyter-widgets/controls",
          "model_name": "HTMLModel",
          "model_module_version": "1.5.0",
          "state": {
            "_view_name": "HTMLView",
            "style": "IPY_MODEL_5e8c7d18ecec4082bb18156b395daa3f",
            "_dom_classes": [],
            "description": "",
            "_model_name": "HTMLModel",
            "placeholder": "​",
            "_view_module": "@jupyter-widgets/controls",
            "_model_module_version": "1.5.0",
            "value": " 570/570 [00:00&lt;00:00, 14.6kB/s]",
            "_view_count": null,
            "_view_module_version": "1.5.0",
            "description_tooltip": null,
            "_model_module": "@jupyter-widgets/controls",
            "layout": "IPY_MODEL_e4ee32911a764f9d8bdf544e6cba4838"
          }
        },
        "4e63abe07f384b92aae18322e12faa05": {
          "model_module": "@jupyter-widgets/controls",
          "model_name": "DescriptionStyleModel",
          "model_module_version": "1.5.0",
          "state": {
            "_view_name": "StyleView",
            "_model_name": "DescriptionStyleModel",
            "description_width": "",
            "_view_module": "@jupyter-widgets/base",
            "_model_module_version": "1.5.0",
            "_view_count": null,
            "_view_module_version": "1.2.0",
            "_model_module": "@jupyter-widgets/controls"
          }
        },
        "071bf46dae6b4f2381ab704b61bba3d9": {
          "model_module": "@jupyter-widgets/base",
          "model_name": "LayoutModel",
          "model_module_version": "1.2.0",
          "state": {
            "_view_name": "LayoutView",
            "grid_template_rows": null,
            "right": null,
            "justify_content": null,
            "_view_module": "@jupyter-widgets/base",
            "overflow": null,
            "_model_module_version": "1.2.0",
            "_view_count": null,
            "flex_flow": null,
            "width": null,
            "min_width": null,
            "border": null,
            "align_items": null,
            "bottom": null,
            "_model_module": "@jupyter-widgets/base",
            "top": null,
            "grid_column": null,
            "overflow_y": null,
            "overflow_x": null,
            "grid_auto_flow": null,
            "grid_area": null,
            "grid_template_columns": null,
            "flex": null,
            "_model_name": "LayoutModel",
            "justify_items": null,
            "grid_row": null,
            "max_height": null,
            "align_content": null,
            "visibility": null,
            "align_self": null,
            "height": null,
            "min_height": null,
            "padding": null,
            "grid_auto_rows": null,
            "grid_gap": null,
            "max_width": null,
            "order": null,
            "_view_module_version": "1.2.0",
            "grid_template_areas": null,
            "object_position": null,
            "object_fit": null,
            "grid_auto_columns": null,
            "margin": null,
            "display": null,
            "left": null
          }
        },
        "cc9e149fa9b24257bc746969ec4dcb1d": {
          "model_module": "@jupyter-widgets/controls",
          "model_name": "ProgressStyleModel",
          "model_module_version": "1.5.0",
          "state": {
            "_view_name": "StyleView",
            "_model_name": "ProgressStyleModel",
            "description_width": "",
            "_view_module": "@jupyter-widgets/base",
            "_model_module_version": "1.5.0",
            "_view_count": null,
            "_view_module_version": "1.2.0",
            "bar_color": null,
            "_model_module": "@jupyter-widgets/controls"
          }
        },
        "46c6fb9f90f040e087d942d1d43fd4ee": {
          "model_module": "@jupyter-widgets/base",
          "model_name": "LayoutModel",
          "model_module_version": "1.2.0",
          "state": {
            "_view_name": "LayoutView",
            "grid_template_rows": null,
            "right": null,
            "justify_content": null,
            "_view_module": "@jupyter-widgets/base",
            "overflow": null,
            "_model_module_version": "1.2.0",
            "_view_count": null,
            "flex_flow": null,
            "width": null,
            "min_width": null,
            "border": null,
            "align_items": null,
            "bottom": null,
            "_model_module": "@jupyter-widgets/base",
            "top": null,
            "grid_column": null,
            "overflow_y": null,
            "overflow_x": null,
            "grid_auto_flow": null,
            "grid_area": null,
            "grid_template_columns": null,
            "flex": null,
            "_model_name": "LayoutModel",
            "justify_items": null,
            "grid_row": null,
            "max_height": null,
            "align_content": null,
            "visibility": null,
            "align_self": null,
            "height": null,
            "min_height": null,
            "padding": null,
            "grid_auto_rows": null,
            "grid_gap": null,
            "max_width": null,
            "order": null,
            "_view_module_version": "1.2.0",
            "grid_template_areas": null,
            "object_position": null,
            "object_fit": null,
            "grid_auto_columns": null,
            "margin": null,
            "display": null,
            "left": null
          }
        },
        "5e8c7d18ecec4082bb18156b395daa3f": {
          "model_module": "@jupyter-widgets/controls",
          "model_name": "DescriptionStyleModel",
          "model_module_version": "1.5.0",
          "state": {
            "_view_name": "StyleView",
            "_model_name": "DescriptionStyleModel",
            "description_width": "",
            "_view_module": "@jupyter-widgets/base",
            "_model_module_version": "1.5.0",
            "_view_count": null,
            "_view_module_version": "1.2.0",
            "_model_module": "@jupyter-widgets/controls"
          }
        },
        "e4ee32911a764f9d8bdf544e6cba4838": {
          "model_module": "@jupyter-widgets/base",
          "model_name": "LayoutModel",
          "model_module_version": "1.2.0",
          "state": {
            "_view_name": "LayoutView",
            "grid_template_rows": null,
            "right": null,
            "justify_content": null,
            "_view_module": "@jupyter-widgets/base",
            "overflow": null,
            "_model_module_version": "1.2.0",
            "_view_count": null,
            "flex_flow": null,
            "width": null,
            "min_width": null,
            "border": null,
            "align_items": null,
            "bottom": null,
            "_model_module": "@jupyter-widgets/base",
            "top": null,
            "grid_column": null,
            "overflow_y": null,
            "overflow_x": null,
            "grid_auto_flow": null,
            "grid_area": null,
            "grid_template_columns": null,
            "flex": null,
            "_model_name": "LayoutModel",
            "justify_items": null,
            "grid_row": null,
            "max_height": null,
            "align_content": null,
            "visibility": null,
            "align_self": null,
            "height": null,
            "min_height": null,
            "padding": null,
            "grid_auto_rows": null,
            "grid_gap": null,
            "max_width": null,
            "order": null,
            "_view_module_version": "1.2.0",
            "grid_template_areas": null,
            "object_position": null,
            "object_fit": null,
            "grid_auto_columns": null,
            "margin": null,
            "display": null,
            "left": null
          }
        },
        "6466bf98baf94280aadf7dc9530a3d02": {
          "model_module": "@jupyter-widgets/controls",
          "model_name": "HBoxModel",
          "model_module_version": "1.5.0",
          "state": {
            "_view_name": "HBoxView",
            "_dom_classes": [],
            "_model_name": "HBoxModel",
            "_view_module": "@jupyter-widgets/controls",
            "_model_module_version": "1.5.0",
            "_view_count": null,
            "_view_module_version": "1.5.0",
            "box_style": "",
            "layout": "IPY_MODEL_3ea29047da2c4aa0b91e77f436bf7e5f",
            "_model_module": "@jupyter-widgets/controls",
            "children": [
              "IPY_MODEL_b40d9e2aaea94e3bae6a001ecb67629b",
              "IPY_MODEL_87048e092d15418ea632ad670275fdbb",
              "IPY_MODEL_b44d8e53f8664239851d7636f8273fbf"
            ]
          }
        },
        "3ea29047da2c4aa0b91e77f436bf7e5f": {
          "model_module": "@jupyter-widgets/base",
          "model_name": "LayoutModel",
          "model_module_version": "1.2.0",
          "state": {
            "_view_name": "LayoutView",
            "grid_template_rows": null,
            "right": null,
            "justify_content": null,
            "_view_module": "@jupyter-widgets/base",
            "overflow": null,
            "_model_module_version": "1.2.0",
            "_view_count": null,
            "flex_flow": null,
            "width": null,
            "min_width": null,
            "border": null,
            "align_items": null,
            "bottom": null,
            "_model_module": "@jupyter-widgets/base",
            "top": null,
            "grid_column": null,
            "overflow_y": null,
            "overflow_x": null,
            "grid_auto_flow": null,
            "grid_area": null,
            "grid_template_columns": null,
            "flex": null,
            "_model_name": "LayoutModel",
            "justify_items": null,
            "grid_row": null,
            "max_height": null,
            "align_content": null,
            "visibility": null,
            "align_self": null,
            "height": null,
            "min_height": null,
            "padding": null,
            "grid_auto_rows": null,
            "grid_gap": null,
            "max_width": null,
            "order": null,
            "_view_module_version": "1.2.0",
            "grid_template_areas": null,
            "object_position": null,
            "object_fit": null,
            "grid_auto_columns": null,
            "margin": null,
            "display": null,
            "left": null
          }
        },
        "b40d9e2aaea94e3bae6a001ecb67629b": {
          "model_module": "@jupyter-widgets/controls",
          "model_name": "HTMLModel",
          "model_module_version": "1.5.0",
          "state": {
            "_view_name": "HTMLView",
            "style": "IPY_MODEL_e5b4559d6ea54a6ab89558300a9c8a16",
            "_dom_classes": [],
            "description": "",
            "_model_name": "HTMLModel",
            "placeholder": "​",
            "_view_module": "@jupyter-widgets/controls",
            "_model_module_version": "1.5.0",
            "value": "Downloading: 100%",
            "_view_count": null,
            "_view_module_version": "1.5.0",
            "description_tooltip": null,
            "_model_module": "@jupyter-widgets/controls",
            "layout": "IPY_MODEL_eda363f9c22948eda096834066f3d8e0"
          }
        },
        "87048e092d15418ea632ad670275fdbb": {
          "model_module": "@jupyter-widgets/controls",
          "model_name": "FloatProgressModel",
          "model_module_version": "1.5.0",
          "state": {
            "_view_name": "ProgressView",
            "style": "IPY_MODEL_ce9df1da78514343bd2e171dc9cd206b",
            "_dom_classes": [],
            "description": "",
            "_model_name": "FloatProgressModel",
            "bar_style": "success",
            "max": 231508,
            "_view_module": "@jupyter-widgets/controls",
            "_model_module_version": "1.5.0",
            "value": 231508,
            "_view_count": null,
            "_view_module_version": "1.5.0",
            "orientation": "horizontal",
            "min": 0,
            "description_tooltip": null,
            "_model_module": "@jupyter-widgets/controls",
            "layout": "IPY_MODEL_a491c76ec8564d8cafba9c0fc0381223"
          }
        },
        "b44d8e53f8664239851d7636f8273fbf": {
          "model_module": "@jupyter-widgets/controls",
          "model_name": "HTMLModel",
          "model_module_version": "1.5.0",
          "state": {
            "_view_name": "HTMLView",
            "style": "IPY_MODEL_0b6d9e1e81d14a039e59474403c381b9",
            "_dom_classes": [],
            "description": "",
            "_model_name": "HTMLModel",
            "placeholder": "​",
            "_view_module": "@jupyter-widgets/controls",
            "_model_module_version": "1.5.0",
            "value": " 226k/226k [00:00&lt;00:00, 735kB/s]",
            "_view_count": null,
            "_view_module_version": "1.5.0",
            "description_tooltip": null,
            "_model_module": "@jupyter-widgets/controls",
            "layout": "IPY_MODEL_8176b075992040029bcee68a1dfc54ba"
          }
        },
        "e5b4559d6ea54a6ab89558300a9c8a16": {
          "model_module": "@jupyter-widgets/controls",
          "model_name": "DescriptionStyleModel",
          "model_module_version": "1.5.0",
          "state": {
            "_view_name": "StyleView",
            "_model_name": "DescriptionStyleModel",
            "description_width": "",
            "_view_module": "@jupyter-widgets/base",
            "_model_module_version": "1.5.0",
            "_view_count": null,
            "_view_module_version": "1.2.0",
            "_model_module": "@jupyter-widgets/controls"
          }
        },
        "eda363f9c22948eda096834066f3d8e0": {
          "model_module": "@jupyter-widgets/base",
          "model_name": "LayoutModel",
          "model_module_version": "1.2.0",
          "state": {
            "_view_name": "LayoutView",
            "grid_template_rows": null,
            "right": null,
            "justify_content": null,
            "_view_module": "@jupyter-widgets/base",
            "overflow": null,
            "_model_module_version": "1.2.0",
            "_view_count": null,
            "flex_flow": null,
            "width": null,
            "min_width": null,
            "border": null,
            "align_items": null,
            "bottom": null,
            "_model_module": "@jupyter-widgets/base",
            "top": null,
            "grid_column": null,
            "overflow_y": null,
            "overflow_x": null,
            "grid_auto_flow": null,
            "grid_area": null,
            "grid_template_columns": null,
            "flex": null,
            "_model_name": "LayoutModel",
            "justify_items": null,
            "grid_row": null,
            "max_height": null,
            "align_content": null,
            "visibility": null,
            "align_self": null,
            "height": null,
            "min_height": null,
            "padding": null,
            "grid_auto_rows": null,
            "grid_gap": null,
            "max_width": null,
            "order": null,
            "_view_module_version": "1.2.0",
            "grid_template_areas": null,
            "object_position": null,
            "object_fit": null,
            "grid_auto_columns": null,
            "margin": null,
            "display": null,
            "left": null
          }
        },
        "ce9df1da78514343bd2e171dc9cd206b": {
          "model_module": "@jupyter-widgets/controls",
          "model_name": "ProgressStyleModel",
          "model_module_version": "1.5.0",
          "state": {
            "_view_name": "StyleView",
            "_model_name": "ProgressStyleModel",
            "description_width": "",
            "_view_module": "@jupyter-widgets/base",
            "_model_module_version": "1.5.0",
            "_view_count": null,
            "_view_module_version": "1.2.0",
            "bar_color": null,
            "_model_module": "@jupyter-widgets/controls"
          }
        },
        "a491c76ec8564d8cafba9c0fc0381223": {
          "model_module": "@jupyter-widgets/base",
          "model_name": "LayoutModel",
          "model_module_version": "1.2.0",
          "state": {
            "_view_name": "LayoutView",
            "grid_template_rows": null,
            "right": null,
            "justify_content": null,
            "_view_module": "@jupyter-widgets/base",
            "overflow": null,
            "_model_module_version": "1.2.0",
            "_view_count": null,
            "flex_flow": null,
            "width": null,
            "min_width": null,
            "border": null,
            "align_items": null,
            "bottom": null,
            "_model_module": "@jupyter-widgets/base",
            "top": null,
            "grid_column": null,
            "overflow_y": null,
            "overflow_x": null,
            "grid_auto_flow": null,
            "grid_area": null,
            "grid_template_columns": null,
            "flex": null,
            "_model_name": "LayoutModel",
            "justify_items": null,
            "grid_row": null,
            "max_height": null,
            "align_content": null,
            "visibility": null,
            "align_self": null,
            "height": null,
            "min_height": null,
            "padding": null,
            "grid_auto_rows": null,
            "grid_gap": null,
            "max_width": null,
            "order": null,
            "_view_module_version": "1.2.0",
            "grid_template_areas": null,
            "object_position": null,
            "object_fit": null,
            "grid_auto_columns": null,
            "margin": null,
            "display": null,
            "left": null
          }
        },
        "0b6d9e1e81d14a039e59474403c381b9": {
          "model_module": "@jupyter-widgets/controls",
          "model_name": "DescriptionStyleModel",
          "model_module_version": "1.5.0",
          "state": {
            "_view_name": "StyleView",
            "_model_name": "DescriptionStyleModel",
            "description_width": "",
            "_view_module": "@jupyter-widgets/base",
            "_model_module_version": "1.5.0",
            "_view_count": null,
            "_view_module_version": "1.2.0",
            "_model_module": "@jupyter-widgets/controls"
          }
        },
        "8176b075992040029bcee68a1dfc54ba": {
          "model_module": "@jupyter-widgets/base",
          "model_name": "LayoutModel",
          "model_module_version": "1.2.0",
          "state": {
            "_view_name": "LayoutView",
            "grid_template_rows": null,
            "right": null,
            "justify_content": null,
            "_view_module": "@jupyter-widgets/base",
            "overflow": null,
            "_model_module_version": "1.2.0",
            "_view_count": null,
            "flex_flow": null,
            "width": null,
            "min_width": null,
            "border": null,
            "align_items": null,
            "bottom": null,
            "_model_module": "@jupyter-widgets/base",
            "top": null,
            "grid_column": null,
            "overflow_y": null,
            "overflow_x": null,
            "grid_auto_flow": null,
            "grid_area": null,
            "grid_template_columns": null,
            "flex": null,
            "_model_name": "LayoutModel",
            "justify_items": null,
            "grid_row": null,
            "max_height": null,
            "align_content": null,
            "visibility": null,
            "align_self": null,
            "height": null,
            "min_height": null,
            "padding": null,
            "grid_auto_rows": null,
            "grid_gap": null,
            "max_width": null,
            "order": null,
            "_view_module_version": "1.2.0",
            "grid_template_areas": null,
            "object_position": null,
            "object_fit": null,
            "grid_auto_columns": null,
            "margin": null,
            "display": null,
            "left": null
          }
        },
        "0ed64cb640434789a71639e54df7143e": {
          "model_module": "@jupyter-widgets/controls",
          "model_name": "HBoxModel",
          "model_module_version": "1.5.0",
          "state": {
            "_view_name": "HBoxView",
            "_dom_classes": [],
            "_model_name": "HBoxModel",
            "_view_module": "@jupyter-widgets/controls",
            "_model_module_version": "1.5.0",
            "_view_count": null,
            "_view_module_version": "1.5.0",
            "box_style": "",
            "layout": "IPY_MODEL_4bd611c6813a4a6e9576e8b3262bf333",
            "_model_module": "@jupyter-widgets/controls",
            "children": [
              "IPY_MODEL_d9d9c75a638d4c75895d3f35bdb3579c",
              "IPY_MODEL_d45a1d41d40b497e9711df2d29946b11",
              "IPY_MODEL_1146d16a11aa423090ac57743e4d9d1a"
            ]
          }
        },
        "4bd611c6813a4a6e9576e8b3262bf333": {
          "model_module": "@jupyter-widgets/base",
          "model_name": "LayoutModel",
          "model_module_version": "1.2.0",
          "state": {
            "_view_name": "LayoutView",
            "grid_template_rows": null,
            "right": null,
            "justify_content": null,
            "_view_module": "@jupyter-widgets/base",
            "overflow": null,
            "_model_module_version": "1.2.0",
            "_view_count": null,
            "flex_flow": null,
            "width": null,
            "min_width": null,
            "border": null,
            "align_items": null,
            "bottom": null,
            "_model_module": "@jupyter-widgets/base",
            "top": null,
            "grid_column": null,
            "overflow_y": null,
            "overflow_x": null,
            "grid_auto_flow": null,
            "grid_area": null,
            "grid_template_columns": null,
            "flex": null,
            "_model_name": "LayoutModel",
            "justify_items": null,
            "grid_row": null,
            "max_height": null,
            "align_content": null,
            "visibility": null,
            "align_self": null,
            "height": null,
            "min_height": null,
            "padding": null,
            "grid_auto_rows": null,
            "grid_gap": null,
            "max_width": null,
            "order": null,
            "_view_module_version": "1.2.0",
            "grid_template_areas": null,
            "object_position": null,
            "object_fit": null,
            "grid_auto_columns": null,
            "margin": null,
            "display": null,
            "left": null
          }
        },
        "d9d9c75a638d4c75895d3f35bdb3579c": {
          "model_module": "@jupyter-widgets/controls",
          "model_name": "HTMLModel",
          "model_module_version": "1.5.0",
          "state": {
            "_view_name": "HTMLView",
            "style": "IPY_MODEL_6b3ed02219704d9bbb0339ae3b9899a0",
            "_dom_classes": [],
            "description": "",
            "_model_name": "HTMLModel",
            "placeholder": "​",
            "_view_module": "@jupyter-widgets/controls",
            "_model_module_version": "1.5.0",
            "value": "Downloading: 100%",
            "_view_count": null,
            "_view_module_version": "1.5.0",
            "description_tooltip": null,
            "_model_module": "@jupyter-widgets/controls",
            "layout": "IPY_MODEL_55ea704420b8469cb933ef2737d7c5fc"
          }
        },
        "d45a1d41d40b497e9711df2d29946b11": {
          "model_module": "@jupyter-widgets/controls",
          "model_name": "FloatProgressModel",
          "model_module_version": "1.5.0",
          "state": {
            "_view_name": "ProgressView",
            "style": "IPY_MODEL_cbb2b656c6f94440925a9ea37a1eeee0",
            "_dom_classes": [],
            "description": "",
            "_model_name": "FloatProgressModel",
            "bar_style": "success",
            "max": 466062,
            "_view_module": "@jupyter-widgets/controls",
            "_model_module_version": "1.5.0",
            "value": 466062,
            "_view_count": null,
            "_view_module_version": "1.5.0",
            "orientation": "horizontal",
            "min": 0,
            "description_tooltip": null,
            "_model_module": "@jupyter-widgets/controls",
            "layout": "IPY_MODEL_63ffac9a8100493e9977353cffc45208"
          }
        },
        "1146d16a11aa423090ac57743e4d9d1a": {
          "model_module": "@jupyter-widgets/controls",
          "model_name": "HTMLModel",
          "model_module_version": "1.5.0",
          "state": {
            "_view_name": "HTMLView",
            "style": "IPY_MODEL_b6e0088e3ec34557bf75250be5e21d1c",
            "_dom_classes": [],
            "description": "",
            "_model_name": "HTMLModel",
            "placeholder": "​",
            "_view_module": "@jupyter-widgets/controls",
            "_model_module_version": "1.5.0",
            "value": " 455k/455k [00:00&lt;00:00, 824kB/s]",
            "_view_count": null,
            "_view_module_version": "1.5.0",
            "description_tooltip": null,
            "_model_module": "@jupyter-widgets/controls",
            "layout": "IPY_MODEL_6676bccf5be84be19576bb7869e88fa6"
          }
        },
        "6b3ed02219704d9bbb0339ae3b9899a0": {
          "model_module": "@jupyter-widgets/controls",
          "model_name": "DescriptionStyleModel",
          "model_module_version": "1.5.0",
          "state": {
            "_view_name": "StyleView",
            "_model_name": "DescriptionStyleModel",
            "description_width": "",
            "_view_module": "@jupyter-widgets/base",
            "_model_module_version": "1.5.0",
            "_view_count": null,
            "_view_module_version": "1.2.0",
            "_model_module": "@jupyter-widgets/controls"
          }
        },
        "55ea704420b8469cb933ef2737d7c5fc": {
          "model_module": "@jupyter-widgets/base",
          "model_name": "LayoutModel",
          "model_module_version": "1.2.0",
          "state": {
            "_view_name": "LayoutView",
            "grid_template_rows": null,
            "right": null,
            "justify_content": null,
            "_view_module": "@jupyter-widgets/base",
            "overflow": null,
            "_model_module_version": "1.2.0",
            "_view_count": null,
            "flex_flow": null,
            "width": null,
            "min_width": null,
            "border": null,
            "align_items": null,
            "bottom": null,
            "_model_module": "@jupyter-widgets/base",
            "top": null,
            "grid_column": null,
            "overflow_y": null,
            "overflow_x": null,
            "grid_auto_flow": null,
            "grid_area": null,
            "grid_template_columns": null,
            "flex": null,
            "_model_name": "LayoutModel",
            "justify_items": null,
            "grid_row": null,
            "max_height": null,
            "align_content": null,
            "visibility": null,
            "align_self": null,
            "height": null,
            "min_height": null,
            "padding": null,
            "grid_auto_rows": null,
            "grid_gap": null,
            "max_width": null,
            "order": null,
            "_view_module_version": "1.2.0",
            "grid_template_areas": null,
            "object_position": null,
            "object_fit": null,
            "grid_auto_columns": null,
            "margin": null,
            "display": null,
            "left": null
          }
        },
        "cbb2b656c6f94440925a9ea37a1eeee0": {
          "model_module": "@jupyter-widgets/controls",
          "model_name": "ProgressStyleModel",
          "model_module_version": "1.5.0",
          "state": {
            "_view_name": "StyleView",
            "_model_name": "ProgressStyleModel",
            "description_width": "",
            "_view_module": "@jupyter-widgets/base",
            "_model_module_version": "1.5.0",
            "_view_count": null,
            "_view_module_version": "1.2.0",
            "bar_color": null,
            "_model_module": "@jupyter-widgets/controls"
          }
        },
        "63ffac9a8100493e9977353cffc45208": {
          "model_module": "@jupyter-widgets/base",
          "model_name": "LayoutModel",
          "model_module_version": "1.2.0",
          "state": {
            "_view_name": "LayoutView",
            "grid_template_rows": null,
            "right": null,
            "justify_content": null,
            "_view_module": "@jupyter-widgets/base",
            "overflow": null,
            "_model_module_version": "1.2.0",
            "_view_count": null,
            "flex_flow": null,
            "width": null,
            "min_width": null,
            "border": null,
            "align_items": null,
            "bottom": null,
            "_model_module": "@jupyter-widgets/base",
            "top": null,
            "grid_column": null,
            "overflow_y": null,
            "overflow_x": null,
            "grid_auto_flow": null,
            "grid_area": null,
            "grid_template_columns": null,
            "flex": null,
            "_model_name": "LayoutModel",
            "justify_items": null,
            "grid_row": null,
            "max_height": null,
            "align_content": null,
            "visibility": null,
            "align_self": null,
            "height": null,
            "min_height": null,
            "padding": null,
            "grid_auto_rows": null,
            "grid_gap": null,
            "max_width": null,
            "order": null,
            "_view_module_version": "1.2.0",
            "grid_template_areas": null,
            "object_position": null,
            "object_fit": null,
            "grid_auto_columns": null,
            "margin": null,
            "display": null,
            "left": null
          }
        },
        "b6e0088e3ec34557bf75250be5e21d1c": {
          "model_module": "@jupyter-widgets/controls",
          "model_name": "DescriptionStyleModel",
          "model_module_version": "1.5.0",
          "state": {
            "_view_name": "StyleView",
            "_model_name": "DescriptionStyleModel",
            "description_width": "",
            "_view_module": "@jupyter-widgets/base",
            "_model_module_version": "1.5.0",
            "_view_count": null,
            "_view_module_version": "1.2.0",
            "_model_module": "@jupyter-widgets/controls"
          }
        },
        "6676bccf5be84be19576bb7869e88fa6": {
          "model_module": "@jupyter-widgets/base",
          "model_name": "LayoutModel",
          "model_module_version": "1.2.0",
          "state": {
            "_view_name": "LayoutView",
            "grid_template_rows": null,
            "right": null,
            "justify_content": null,
            "_view_module": "@jupyter-widgets/base",
            "overflow": null,
            "_model_module_version": "1.2.0",
            "_view_count": null,
            "flex_flow": null,
            "width": null,
            "min_width": null,
            "border": null,
            "align_items": null,
            "bottom": null,
            "_model_module": "@jupyter-widgets/base",
            "top": null,
            "grid_column": null,
            "overflow_y": null,
            "overflow_x": null,
            "grid_auto_flow": null,
            "grid_area": null,
            "grid_template_columns": null,
            "flex": null,
            "_model_name": "LayoutModel",
            "justify_items": null,
            "grid_row": null,
            "max_height": null,
            "align_content": null,
            "visibility": null,
            "align_self": null,
            "height": null,
            "min_height": null,
            "padding": null,
            "grid_auto_rows": null,
            "grid_gap": null,
            "max_width": null,
            "order": null,
            "_view_module_version": "1.2.0",
            "grid_template_areas": null,
            "object_position": null,
            "object_fit": null,
            "grid_auto_columns": null,
            "margin": null,
            "display": null,
            "left": null
          }
        },
        "f0737eba7a434e06909fed6b89f90182": {
          "model_module": "@jupyter-widgets/controls",
          "model_name": "HBoxModel",
          "model_module_version": "1.5.0",
          "state": {
            "_view_name": "HBoxView",
            "_dom_classes": [],
            "_model_name": "HBoxModel",
            "_view_module": "@jupyter-widgets/controls",
            "_model_module_version": "1.5.0",
            "_view_count": null,
            "_view_module_version": "1.5.0",
            "box_style": "",
            "layout": "IPY_MODEL_325b126feb1846438f45a3870a0ffb9e",
            "_model_module": "@jupyter-widgets/controls",
            "children": [
              "IPY_MODEL_621b5969451c46748cefddae02d3f030",
              "IPY_MODEL_852e075b9ead4552894964bfd0bae090",
              "IPY_MODEL_8ffb980c0df34b8297dd560a6cb31ae3"
            ]
          }
        },
        "325b126feb1846438f45a3870a0ffb9e": {
          "model_module": "@jupyter-widgets/base",
          "model_name": "LayoutModel",
          "model_module_version": "1.2.0",
          "state": {
            "_view_name": "LayoutView",
            "grid_template_rows": null,
            "right": null,
            "justify_content": null,
            "_view_module": "@jupyter-widgets/base",
            "overflow": null,
            "_model_module_version": "1.2.0",
            "_view_count": null,
            "flex_flow": null,
            "width": null,
            "min_width": null,
            "border": null,
            "align_items": null,
            "bottom": null,
            "_model_module": "@jupyter-widgets/base",
            "top": null,
            "grid_column": null,
            "overflow_y": null,
            "overflow_x": null,
            "grid_auto_flow": null,
            "grid_area": null,
            "grid_template_columns": null,
            "flex": null,
            "_model_name": "LayoutModel",
            "justify_items": null,
            "grid_row": null,
            "max_height": null,
            "align_content": null,
            "visibility": null,
            "align_self": null,
            "height": null,
            "min_height": null,
            "padding": null,
            "grid_auto_rows": null,
            "grid_gap": null,
            "max_width": null,
            "order": null,
            "_view_module_version": "1.2.0",
            "grid_template_areas": null,
            "object_position": null,
            "object_fit": null,
            "grid_auto_columns": null,
            "margin": null,
            "display": null,
            "left": null
          }
        },
        "621b5969451c46748cefddae02d3f030": {
          "model_module": "@jupyter-widgets/controls",
          "model_name": "HTMLModel",
          "model_module_version": "1.5.0",
          "state": {
            "_view_name": "HTMLView",
            "style": "IPY_MODEL_7e2a023bbb6d4ba3a56010cee803882f",
            "_dom_classes": [],
            "description": "",
            "_model_name": "HTMLModel",
            "placeholder": "​",
            "_view_module": "@jupyter-widgets/controls",
            "_model_module_version": "1.5.0",
            "value": "Downloading: 100%",
            "_view_count": null,
            "_view_module_version": "1.5.0",
            "description_tooltip": null,
            "_model_module": "@jupyter-widgets/controls",
            "layout": "IPY_MODEL_66b13d8be26d486f8e67098e6b2e2ff6"
          }
        },
        "852e075b9ead4552894964bfd0bae090": {
          "model_module": "@jupyter-widgets/controls",
          "model_name": "FloatProgressModel",
          "model_module_version": "1.5.0",
          "state": {
            "_view_name": "ProgressView",
            "style": "IPY_MODEL_76097a1d2bc8447d965e12bcd6fe5321",
            "_dom_classes": [],
            "description": "",
            "_model_name": "FloatProgressModel",
            "bar_style": "success",
            "max": 440473133,
            "_view_module": "@jupyter-widgets/controls",
            "_model_module_version": "1.5.0",
            "value": 440473133,
            "_view_count": null,
            "_view_module_version": "1.5.0",
            "orientation": "horizontal",
            "min": 0,
            "description_tooltip": null,
            "_model_module": "@jupyter-widgets/controls",
            "layout": "IPY_MODEL_01a0c90d000d40e7a184e32a3db2e3d0"
          }
        },
        "8ffb980c0df34b8297dd560a6cb31ae3": {
          "model_module": "@jupyter-widgets/controls",
          "model_name": "HTMLModel",
          "model_module_version": "1.5.0",
          "state": {
            "_view_name": "HTMLView",
            "style": "IPY_MODEL_8c76f338f264449183d7d63b60d1ce8d",
            "_dom_classes": [],
            "description": "",
            "_model_name": "HTMLModel",
            "placeholder": "​",
            "_view_module": "@jupyter-widgets/controls",
            "_model_module_version": "1.5.0",
            "value": " 420M/420M [00:12&lt;00:00, 36.3MB/s]",
            "_view_count": null,
            "_view_module_version": "1.5.0",
            "description_tooltip": null,
            "_model_module": "@jupyter-widgets/controls",
            "layout": "IPY_MODEL_00e5e83828994391b9c0819fd2636b5c"
          }
        },
        "7e2a023bbb6d4ba3a56010cee803882f": {
          "model_module": "@jupyter-widgets/controls",
          "model_name": "DescriptionStyleModel",
          "model_module_version": "1.5.0",
          "state": {
            "_view_name": "StyleView",
            "_model_name": "DescriptionStyleModel",
            "description_width": "",
            "_view_module": "@jupyter-widgets/base",
            "_model_module_version": "1.5.0",
            "_view_count": null,
            "_view_module_version": "1.2.0",
            "_model_module": "@jupyter-widgets/controls"
          }
        },
        "66b13d8be26d486f8e67098e6b2e2ff6": {
          "model_module": "@jupyter-widgets/base",
          "model_name": "LayoutModel",
          "model_module_version": "1.2.0",
          "state": {
            "_view_name": "LayoutView",
            "grid_template_rows": null,
            "right": null,
            "justify_content": null,
            "_view_module": "@jupyter-widgets/base",
            "overflow": null,
            "_model_module_version": "1.2.0",
            "_view_count": null,
            "flex_flow": null,
            "width": null,
            "min_width": null,
            "border": null,
            "align_items": null,
            "bottom": null,
            "_model_module": "@jupyter-widgets/base",
            "top": null,
            "grid_column": null,
            "overflow_y": null,
            "overflow_x": null,
            "grid_auto_flow": null,
            "grid_area": null,
            "grid_template_columns": null,
            "flex": null,
            "_model_name": "LayoutModel",
            "justify_items": null,
            "grid_row": null,
            "max_height": null,
            "align_content": null,
            "visibility": null,
            "align_self": null,
            "height": null,
            "min_height": null,
            "padding": null,
            "grid_auto_rows": null,
            "grid_gap": null,
            "max_width": null,
            "order": null,
            "_view_module_version": "1.2.0",
            "grid_template_areas": null,
            "object_position": null,
            "object_fit": null,
            "grid_auto_columns": null,
            "margin": null,
            "display": null,
            "left": null
          }
        },
        "76097a1d2bc8447d965e12bcd6fe5321": {
          "model_module": "@jupyter-widgets/controls",
          "model_name": "ProgressStyleModel",
          "model_module_version": "1.5.0",
          "state": {
            "_view_name": "StyleView",
            "_model_name": "ProgressStyleModel",
            "description_width": "",
            "_view_module": "@jupyter-widgets/base",
            "_model_module_version": "1.5.0",
            "_view_count": null,
            "_view_module_version": "1.2.0",
            "bar_color": null,
            "_model_module": "@jupyter-widgets/controls"
          }
        },
        "01a0c90d000d40e7a184e32a3db2e3d0": {
          "model_module": "@jupyter-widgets/base",
          "model_name": "LayoutModel",
          "model_module_version": "1.2.0",
          "state": {
            "_view_name": "LayoutView",
            "grid_template_rows": null,
            "right": null,
            "justify_content": null,
            "_view_module": "@jupyter-widgets/base",
            "overflow": null,
            "_model_module_version": "1.2.0",
            "_view_count": null,
            "flex_flow": null,
            "width": null,
            "min_width": null,
            "border": null,
            "align_items": null,
            "bottom": null,
            "_model_module": "@jupyter-widgets/base",
            "top": null,
            "grid_column": null,
            "overflow_y": null,
            "overflow_x": null,
            "grid_auto_flow": null,
            "grid_area": null,
            "grid_template_columns": null,
            "flex": null,
            "_model_name": "LayoutModel",
            "justify_items": null,
            "grid_row": null,
            "max_height": null,
            "align_content": null,
            "visibility": null,
            "align_self": null,
            "height": null,
            "min_height": null,
            "padding": null,
            "grid_auto_rows": null,
            "grid_gap": null,
            "max_width": null,
            "order": null,
            "_view_module_version": "1.2.0",
            "grid_template_areas": null,
            "object_position": null,
            "object_fit": null,
            "grid_auto_columns": null,
            "margin": null,
            "display": null,
            "left": null
          }
        },
        "8c76f338f264449183d7d63b60d1ce8d": {
          "model_module": "@jupyter-widgets/controls",
          "model_name": "DescriptionStyleModel",
          "model_module_version": "1.5.0",
          "state": {
            "_view_name": "StyleView",
            "_model_name": "DescriptionStyleModel",
            "description_width": "",
            "_view_module": "@jupyter-widgets/base",
            "_model_module_version": "1.5.0",
            "_view_count": null,
            "_view_module_version": "1.2.0",
            "_model_module": "@jupyter-widgets/controls"
          }
        },
        "00e5e83828994391b9c0819fd2636b5c": {
          "model_module": "@jupyter-widgets/base",
          "model_name": "LayoutModel",
          "model_module_version": "1.2.0",
          "state": {
            "_view_name": "LayoutView",
            "grid_template_rows": null,
            "right": null,
            "justify_content": null,
            "_view_module": "@jupyter-widgets/base",
            "overflow": null,
            "_model_module_version": "1.2.0",
            "_view_count": null,
            "flex_flow": null,
            "width": null,
            "min_width": null,
            "border": null,
            "align_items": null,
            "bottom": null,
            "_model_module": "@jupyter-widgets/base",
            "top": null,
            "grid_column": null,
            "overflow_y": null,
            "overflow_x": null,
            "grid_auto_flow": null,
            "grid_area": null,
            "grid_template_columns": null,
            "flex": null,
            "_model_name": "LayoutModel",
            "justify_items": null,
            "grid_row": null,
            "max_height": null,
            "align_content": null,
            "visibility": null,
            "align_self": null,
            "height": null,
            "min_height": null,
            "padding": null,
            "grid_auto_rows": null,
            "grid_gap": null,
            "max_width": null,
            "order": null,
            "_view_module_version": "1.2.0",
            "grid_template_areas": null,
            "object_position": null,
            "object_fit": null,
            "grid_auto_columns": null,
            "margin": null,
            "display": null,
            "left": null
          }
        },
        "a4944e9c411b4bfab56d2bbdce28c87d": {
          "model_module": "@jupyter-widgets/controls",
          "model_name": "VBoxModel",
          "model_module_version": "1.5.0",
          "state": {
            "_view_name": "VBoxView",
            "_dom_classes": [],
            "_model_name": "VBoxModel",
            "_view_module": "@jupyter-widgets/controls",
            "_model_module_version": "1.5.0",
            "_view_count": null,
            "_view_module_version": "1.5.0",
            "box_style": "",
            "layout": "IPY_MODEL_92485a5abf5445f5ae026e8d50fd26bd",
            "_model_module": "@jupyter-widgets/controls",
            "children": [
              "IPY_MODEL_84c4b093b77c4e4384593e45479bf995",
              "IPY_MODEL_8f27f31122df45d28df99b8f8ae90700"
            ]
          }
        },
        "92485a5abf5445f5ae026e8d50fd26bd": {
          "model_module": "@jupyter-widgets/base",
          "model_name": "LayoutModel",
          "model_module_version": "1.2.0",
          "state": {
            "_view_name": "LayoutView",
            "grid_template_rows": null,
            "right": null,
            "justify_content": null,
            "_view_module": "@jupyter-widgets/base",
            "overflow": null,
            "_model_module_version": "1.2.0",
            "_view_count": null,
            "flex_flow": null,
            "width": null,
            "min_width": null,
            "border": null,
            "align_items": null,
            "bottom": null,
            "_model_module": "@jupyter-widgets/base",
            "top": null,
            "grid_column": null,
            "overflow_y": null,
            "overflow_x": null,
            "grid_auto_flow": null,
            "grid_area": null,
            "grid_template_columns": null,
            "flex": null,
            "_model_name": "LayoutModel",
            "justify_items": null,
            "grid_row": null,
            "max_height": null,
            "align_content": null,
            "visibility": null,
            "align_self": null,
            "height": null,
            "min_height": null,
            "padding": null,
            "grid_auto_rows": null,
            "grid_gap": null,
            "max_width": null,
            "order": null,
            "_view_module_version": "1.2.0",
            "grid_template_areas": null,
            "object_position": null,
            "object_fit": null,
            "grid_auto_columns": null,
            "margin": null,
            "display": null,
            "left": null
          }
        },
        "84c4b093b77c4e4384593e45479bf995": {
          "model_module": "@jupyter-widgets/controls",
          "model_name": "LabelModel",
          "model_module_version": "1.5.0",
          "state": {
            "_view_name": "LabelView",
            "style": "IPY_MODEL_29ef3faa9e354325bfd7cf12013f4c3a",
            "_dom_classes": [],
            "description": "",
            "_model_name": "LabelModel",
            "placeholder": "​",
            "_view_module": "@jupyter-widgets/controls",
            "_model_module_version": "1.5.0",
            "value": " 0.46MB of 0.46MB uploaded (0.00MB deduped)\r",
            "_view_count": null,
            "_view_module_version": "1.5.0",
            "description_tooltip": null,
            "_model_module": "@jupyter-widgets/controls",
            "layout": "IPY_MODEL_8968abecbb364fd9a7525536ec930454"
          }
        },
        "8f27f31122df45d28df99b8f8ae90700": {
          "model_module": "@jupyter-widgets/controls",
          "model_name": "FloatProgressModel",
          "model_module_version": "1.5.0",
          "state": {
            "_view_name": "ProgressView",
            "style": "IPY_MODEL_28cf4c389b074da99b2ec9a6438595ed",
            "_dom_classes": [],
            "description": "",
            "_model_name": "FloatProgressModel",
            "bar_style": "",
            "max": 1,
            "_view_module": "@jupyter-widgets/controls",
            "_model_module_version": "1.5.0",
            "value": 1,
            "_view_count": null,
            "_view_module_version": "1.5.0",
            "orientation": "horizontal",
            "min": 0,
            "description_tooltip": null,
            "_model_module": "@jupyter-widgets/controls",
            "layout": "IPY_MODEL_cd6d2adc77c742a3acc22919abb7ed57"
          }
        },
        "29ef3faa9e354325bfd7cf12013f4c3a": {
          "model_module": "@jupyter-widgets/controls",
          "model_name": "DescriptionStyleModel",
          "model_module_version": "1.5.0",
          "state": {
            "_view_name": "StyleView",
            "_model_name": "DescriptionStyleModel",
            "description_width": "",
            "_view_module": "@jupyter-widgets/base",
            "_model_module_version": "1.5.0",
            "_view_count": null,
            "_view_module_version": "1.2.0",
            "_model_module": "@jupyter-widgets/controls"
          }
        },
        "8968abecbb364fd9a7525536ec930454": {
          "model_module": "@jupyter-widgets/base",
          "model_name": "LayoutModel",
          "model_module_version": "1.2.0",
          "state": {
            "_view_name": "LayoutView",
            "grid_template_rows": null,
            "right": null,
            "justify_content": null,
            "_view_module": "@jupyter-widgets/base",
            "overflow": null,
            "_model_module_version": "1.2.0",
            "_view_count": null,
            "flex_flow": null,
            "width": null,
            "min_width": null,
            "border": null,
            "align_items": null,
            "bottom": null,
            "_model_module": "@jupyter-widgets/base",
            "top": null,
            "grid_column": null,
            "overflow_y": null,
            "overflow_x": null,
            "grid_auto_flow": null,
            "grid_area": null,
            "grid_template_columns": null,
            "flex": null,
            "_model_name": "LayoutModel",
            "justify_items": null,
            "grid_row": null,
            "max_height": null,
            "align_content": null,
            "visibility": null,
            "align_self": null,
            "height": null,
            "min_height": null,
            "padding": null,
            "grid_auto_rows": null,
            "grid_gap": null,
            "max_width": null,
            "order": null,
            "_view_module_version": "1.2.0",
            "grid_template_areas": null,
            "object_position": null,
            "object_fit": null,
            "grid_auto_columns": null,
            "margin": null,
            "display": null,
            "left": null
          }
        },
        "28cf4c389b074da99b2ec9a6438595ed": {
          "model_module": "@jupyter-widgets/controls",
          "model_name": "ProgressStyleModel",
          "model_module_version": "1.5.0",
          "state": {
            "_view_name": "StyleView",
            "_model_name": "ProgressStyleModel",
            "description_width": "",
            "_view_module": "@jupyter-widgets/base",
            "_model_module_version": "1.5.0",
            "_view_count": null,
            "_view_module_version": "1.2.0",
            "bar_color": null,
            "_model_module": "@jupyter-widgets/controls"
          }
        },
        "cd6d2adc77c742a3acc22919abb7ed57": {
          "model_module": "@jupyter-widgets/base",
          "model_name": "LayoutModel",
          "model_module_version": "1.2.0",
          "state": {
            "_view_name": "LayoutView",
            "grid_template_rows": null,
            "right": null,
            "justify_content": null,
            "_view_module": "@jupyter-widgets/base",
            "overflow": null,
            "_model_module_version": "1.2.0",
            "_view_count": null,
            "flex_flow": null,
            "width": null,
            "min_width": null,
            "border": null,
            "align_items": null,
            "bottom": null,
            "_model_module": "@jupyter-widgets/base",
            "top": null,
            "grid_column": null,
            "overflow_y": null,
            "overflow_x": null,
            "grid_auto_flow": null,
            "grid_area": null,
            "grid_template_columns": null,
            "flex": null,
            "_model_name": "LayoutModel",
            "justify_items": null,
            "grid_row": null,
            "max_height": null,
            "align_content": null,
            "visibility": null,
            "align_self": null,
            "height": null,
            "min_height": null,
            "padding": null,
            "grid_auto_rows": null,
            "grid_gap": null,
            "max_width": null,
            "order": null,
            "_view_module_version": "1.2.0",
            "grid_template_areas": null,
            "object_position": null,
            "object_fit": null,
            "grid_auto_columns": null,
            "margin": null,
            "display": null,
            "left": null
          }
        }
      }
    }
  },
  "nbformat": 4,
  "nbformat_minor": 5
}